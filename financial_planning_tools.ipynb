{
 "cells": [
  {
   "cell_type": "markdown",
   "metadata": {},
   "source": [
    "# Financial Planning with APIs and Simulations\n",
    "\n",
    "In this Challenge, you’ll create two financial analysis tools by using a single Jupyter notebook:\n",
    "\n",
    "Part 1: A financial planner for emergencies. The members will be able to use this tool to visualize their current savings. The members can then determine if they have enough reserves for an emergency fund.\n",
    "\n",
    "Part 2: A financial planner for retirement. This tool will forecast the performance of their retirement portfolio in 30 years. To do this, the tool will make an Alpaca API call via the Alpaca SDK to get historical price data for use in Monte Carlo simulations.\n",
    "\n",
    "You’ll use the information from the Monte Carlo simulation to answer questions about the portfolio in your Jupyter notebook.\n",
    "\n"
   ]
  },
  {
   "cell_type": "code",
   "execution_count": 1,
   "metadata": {},
   "outputs": [],
   "source": [
    "# Import the required libraries and dependencies\n",
    "import os\n",
    "import requests\n",
    "import json\n",
    "import pandas as pd\n",
    "from dotenv import load_dotenv\n",
    "import alpaca_trade_api as tradeapi\n",
    "from MCForecastTools import MCSimulation\n",
    "\n",
    "%matplotlib inline"
   ]
  },
  {
   "cell_type": "code",
   "execution_count": 2,
   "metadata": {},
   "outputs": [
    {
     "data": {
      "text/plain": [
       "True"
      ]
     },
     "execution_count": 2,
     "metadata": {},
     "output_type": "execute_result"
    }
   ],
   "source": [
    "# Load the environment variables from the .env file\n",
    "#by calling the load_dotenv function\n",
    "load_dotenv()"
   ]
  },
  {
   "cell_type": "markdown",
   "metadata": {},
   "source": [
    "## Part 1: Create a Financial Planner for Emergencies"
   ]
  },
  {
   "cell_type": "markdown",
   "metadata": {},
   "source": [
    "### Evaluate the Cryptocurrency Wallet by Using the Requests Library\n",
    "\n",
    "In this section, you’ll determine the current value of a member’s cryptocurrency wallet. You’ll collect the current prices for the Bitcoin and Ethereum cryptocurrencies by using the Python Requests library. For the prototype, you’ll assume that the member holds the 1.2 Bitcoins (BTC) and 5.3 Ethereum coins (ETH). To do all this, complete the following steps:\n",
    "\n",
    "1. Create a variable named `monthly_income`, and set its value to `12000`.\n",
    "\n",
    "2. Use the Requests library to get the current price (in US dollars) of Bitcoin (BTC) and Ethereum (ETH) by using the API endpoints that the starter code supplies.\n",
    "\n",
    "3. Navigate the JSON response object to access the current price of each coin, and store each in a variable.\n",
    "\n",
    "    > **Hint** Note the specific identifier for each cryptocurrency in the API JSON response. The Bitcoin identifier is `1`, and the Ethereum identifier is `1027`.\n",
    "\n",
    "4. Calculate the value, in US dollars, of the current amount of each cryptocurrency and of the entire cryptocurrency wallet.\n",
    "\n"
   ]
  },
  {
   "cell_type": "code",
   "execution_count": 3,
   "metadata": {},
   "outputs": [],
   "source": [
    "# The current number of coins for each cryptocurrency asset held in the portfolio.\n",
    "btc_coins = 1.2\n",
    "eth_coins = 5.3"
   ]
  },
  {
   "cell_type": "markdown",
   "metadata": {},
   "source": [
    "#### Step 1: Create a variable named `monthly_income`, and set its value to `12000`."
   ]
  },
  {
   "cell_type": "code",
   "execution_count": 4,
   "metadata": {},
   "outputs": [],
   "source": [
    "# The monthly amount for the member's household income\n",
    "monthly_income = 12000\n"
   ]
  },
  {
   "cell_type": "markdown",
   "metadata": {},
   "source": [
    "#### Review the endpoint URLs for the API calls to Free Crypto API in order to get the current pricing information for both BTC and ETH."
   ]
  },
  {
   "cell_type": "code",
   "execution_count": 5,
   "metadata": {},
   "outputs": [],
   "source": [
    "# The Free Crypto API Call endpoint URLs for the held cryptocurrency assets\n",
    "btc_url = \"https://api.alternative.me/v2/ticker/Bitcoin/?convert=USD\"\n",
    "eth_url = \"https://api.alternative.me/v2/ticker/Ethereum/?convert=USD\""
   ]
  },
  {
   "cell_type": "markdown",
   "metadata": {},
   "source": [
    "#### Step 2. Use the Requests library to get the current price (in US dollars) of Bitcoin (BTC) and Ethereum (ETH) by using the API endpoints that the starter code supplied."
   ]
  },
  {
   "cell_type": "code",
   "execution_count": 8,
   "metadata": {},
   "outputs": [
    {
     "name": "stdout",
     "output_type": "stream",
     "text": [
      "{\n",
      "    \"data\": {\n",
      "        \"1\": {\n",
      "            \"circulating_supply\": 18737768,\n",
      "            \"id\": 1,\n",
      "            \"last_updated\": 1624002586,\n",
      "            \"max_supply\": 21000000,\n",
      "            \"name\": \"Bitcoin\",\n",
      "            \"quotes\": {\n",
      "                \"USD\": {\n",
      "                    \"market_cap\": 709897436135,\n",
      "                    \"percent_change_1h\": 0.590463186050611,\n",
      "                    \"percent_change_24h\": -4.00311775063337,\n",
      "                    \"percent_change_7d\": 2.66265433002456,\n",
      "                    \"percentage_change_1h\": 0.590463186050611,\n",
      "                    \"percentage_change_24h\": -4.00311775063337,\n",
      "                    \"percentage_change_7d\": 2.66265433002456,\n",
      "                    \"price\": 37886.0,\n",
      "                    \"volume_24h\": 36164237525\n",
      "                }\n",
      "            },\n",
      "            \"rank\": 1,\n",
      "            \"symbol\": \"BTC\",\n",
      "            \"total_supply\": 18737768,\n",
      "            \"website_slug\": \"bitcoin\"\n",
      "        }\n",
      "    },\n",
      "    \"metadata\": {\n",
      "        \"error\": null,\n",
      "        \"num_cryptocurrencies\": 1284,\n",
      "        \"timestamp\": 1624002586\n",
      "    }\n",
      "}\n"
     ]
    }
   ],
   "source": [
    "# Using the Python requests library, make an API call to access the current price of BTC\n",
    "btc_response = requests.get(btc_url).json()\n",
    "\n",
    "# Use the json.dumps function to review the response data from the API call\n",
    "# Use the indent and sort_keys parameters to make the response object readable\n",
    "print(json.dumps(btc_response, indent=4, sort_keys=True))\n"
   ]
  },
  {
   "cell_type": "code",
   "execution_count": 15,
   "metadata": {},
   "outputs": [
    {
     "name": "stdout",
     "output_type": "stream",
     "text": [
      "{\n",
      "    \"data\": {\n",
      "        \"1027\": {\n",
      "            \"circulating_supply\": 116338674,\n",
      "            \"id\": 1027,\n",
      "            \"last_updated\": 1624002851,\n",
      "            \"max_supply\": 0,\n",
      "            \"name\": \"Ethereum\",\n",
      "            \"quotes\": {\n",
      "                \"USD\": {\n",
      "                    \"market_cap\": 273865461164,\n",
      "                    \"percent_change_1h\": 0.64443000121204,\n",
      "                    \"percent_change_24h\": -4.23318580289482,\n",
      "                    \"percent_change_7d\": -5.37441781704345,\n",
      "                    \"percentage_change_1h\": 0.64443000121204,\n",
      "                    \"percentage_change_24h\": -4.23318580289482,\n",
      "                    \"percentage_change_7d\": -5.37441781704345,\n",
      "                    \"price\": 2352.96,\n",
      "                    \"volume_24h\": 25112647133\n",
      "                }\n",
      "            },\n",
      "            \"rank\": 2,\n",
      "            \"symbol\": \"ETH\",\n",
      "            \"total_supply\": 116338674,\n",
      "            \"website_slug\": \"ethereum\"\n",
      "        }\n",
      "    },\n",
      "    \"metadata\": {\n",
      "        \"error\": null,\n",
      "        \"num_cryptocurrencies\": 1284,\n",
      "        \"timestamp\": 1624002851\n",
      "    }\n",
      "}\n"
     ]
    }
   ],
   "source": [
    "# Using the Python requests library, make an API call to access the current price ETH\n",
    "eth_response = requests.get(eth_url).json()\n",
    "\n",
    "# Use the json.dumps function to review the response data from the API call\n",
    "# Use the indent and sort_keys parameters to make the response object readable\n",
    "print(json.dumps(eth_response, indent=4, sort_keys=True))\n"
   ]
  },
  {
   "cell_type": "markdown",
   "metadata": {},
   "source": [
    "#### Step 3: Navigate the JSON response object to access the current price of each coin, and store each in a variable."
   ]
  },
  {
   "cell_type": "code",
   "execution_count": 13,
   "metadata": {},
   "outputs": [
    {
     "name": "stdout",
     "output_type": "stream",
     "text": [
      "The current price of btc is 37886.0.\n"
     ]
    }
   ],
   "source": [
    "# Navigate the BTC response object to access the current price of BTC\n",
    "btc_price = btc_response['data']['1']['quotes']['USD']['price']\n",
    "\n",
    "# Print the current price of BTC\n",
    "print(f'The current price of btc is {btc_price}.')\n"
   ]
  },
  {
   "cell_type": "code",
   "execution_count": 17,
   "metadata": {},
   "outputs": [
    {
     "name": "stdout",
     "output_type": "stream",
     "text": [
      "The current price of eth is 2352.96.\n"
     ]
    }
   ],
   "source": [
    "# Navigate the BTC response object to access the current price of ETH\n",
    "eth_price = eth_response['data']['1027']['quotes']['USD']['price']\n",
    "\n",
    "# Print the current price of ETH\n",
    "print(f'The current price of eth is {eth_price}.')\n"
   ]
  },
  {
   "cell_type": "markdown",
   "metadata": {},
   "source": [
    "### Step 4: Calculate the value, in US dollars, of the current amount of each cryptocurrency and of the entire cryptocurrency wallet."
   ]
  },
  {
   "cell_type": "code",
   "execution_count": 18,
   "metadata": {},
   "outputs": [
    {
     "name": "stdout",
     "output_type": "stream",
     "text": [
      "The current value of btc is 45463.2.\n"
     ]
    }
   ],
   "source": [
    "# Compute the current value of the BTC holding \n",
    "btc_value = btc_price * btc_coins\n",
    "\n",
    "# Print current value of your holding in BTC\n",
    "print(f'The current value of btc is {btc_value}.')\n"
   ]
  },
  {
   "cell_type": "code",
   "execution_count": 19,
   "metadata": {},
   "outputs": [
    {
     "name": "stdout",
     "output_type": "stream",
     "text": [
      "The current value of eth is 12470.688.\n"
     ]
    }
   ],
   "source": [
    "# Compute the current value of the ETH holding \n",
    "eth_value = eth_price * eth_coins\n",
    "\n",
    "# Print current value of your holding in ETH\n",
    "print(f'The current value of eth is {eth_value}.')\n"
   ]
  },
  {
   "cell_type": "code",
   "execution_count": 20,
   "metadata": {},
   "outputs": [
    {
     "name": "stdout",
     "output_type": "stream",
     "text": [
      "The current value of the cryptocurrency wallet is 57933.888.\n"
     ]
    }
   ],
   "source": [
    "# Compute the total value of the cryptocurrency wallet\n",
    "# Add the value of the BTC holding to the value of the ETH holding\n",
    "total_crypto_wallet = btc_value + eth_value\n",
    "\n",
    "# Print current cryptocurrency wallet balance\n",
    "print(f'The current value of the cryptocurrency wallet is {total_crypto_wallet}.')\n"
   ]
  },
  {
   "cell_type": "markdown",
   "metadata": {},
   "source": [
    "### Evaluate the Stock and Bond Holdings by Using the Alpaca SDK\n",
    "\n",
    "In this section, you’ll determine the current value of a member’s stock and bond holdings. You’ll make an API call to Alpaca via the Alpaca SDK to get the current closing prices of the SPDR S&P 500 ETF Trust (ticker: SPY) and of the iShares Core US Aggregate Bond ETF (ticker: AGG). For the prototype, assume that the member holds 110 shares of SPY, which represents the stock portion of their portfolio, and 200 shares of AGG, which represents the bond portion. To do all this, complete the following steps:\n",
    "\n",
    "1. In the `Starter_Code` folder, create an environment file (`.env`) to store the values of your Alpaca API key and Alpaca secret key.\n",
    "\n",
    "2. Set the variables for the Alpaca API and secret keys. Using the Alpaca SDK, create the Alpaca `tradeapi.REST` object. In this object, include the parameters for the Alpaca API key, the secret key, and the version number.\n",
    "\n",
    "3. Set the following parameters for the Alpaca API call:\n",
    "\n",
    "    - `tickers`: Use the tickers for the member’s stock and bond holdings.\n",
    "\n",
    "    - `timeframe`: Use a time frame of one day.\n",
    "\n",
    "    - `start_date` and `end_date`: Use the same date for these parameters, and format them with the date of the previous weekday (or `2020-08-07`). This is because you want the one closing price for the most-recent trading day.\n",
    "\n",
    "4. Get the current closing prices for `SPY` and `AGG` by using the Alpaca `get_barset` function. Format the response as a Pandas DataFrame by including the `df` property at the end of the `get_barset` function.\n",
    "\n",
    "5. Navigating the Alpaca response DataFrame, select the `SPY` and `AGG` closing prices, and store them as variables.\n",
    "\n",
    "6. Calculate the value, in US dollars, of the current amount of shares in each of the stock and bond portions of the portfolio, and print the results.\n"
   ]
  },
  {
   "cell_type": "markdown",
   "metadata": {},
   "source": [
    "#### Review the total number of shares held in both (SPY) and (AGG)."
   ]
  },
  {
   "cell_type": "code",
   "execution_count": 21,
   "metadata": {},
   "outputs": [],
   "source": [
    "# Current amount of shares held in both the stock (SPY) and bond (AGG) portion of the portfolio.\n",
    "spy_shares = 110\n",
    "agg_shares = 200\n"
   ]
  },
  {
   "cell_type": "markdown",
   "metadata": {},
   "source": [
    "#### Step 1: In the `Starter_Code` folder, create an environment file (`.env`) to store the values of your Alpaca API key and Alpaca secret key."
   ]
  },
  {
   "cell_type": "markdown",
   "metadata": {},
   "source": [
    "#### Step 2: Set the variables for the Alpaca API and secret keys. Using the Alpaca SDK, create the Alpaca `tradeapi.REST` object. In this object, include the parameters for the Alpaca API key, the secret key, and the version number."
   ]
  },
  {
   "cell_type": "code",
   "execution_count": 57,
   "metadata": {},
   "outputs": [],
   "source": [
    "# Set the variables for the Alpaca API and secret keys\n",
    "# Load .env environment variables\n",
    "load_dotenv()\n",
    "alpaca_api_key = os.getenv(\"ALPACA_API_KEY\")\n",
    "alpaca_secret_key = os.getenv(\"ALPACA_SECRET_KEY\")\n",
    "\n",
    "# Create the Alpaca tradeapi.REST object\n",
    "alpaca = tradeapi.REST(\n",
    "    alpaca_api_key,\n",
    "    alpaca_secret_key,\n",
    "    api_version=\"v2\")\n"
   ]
  },
  {
   "cell_type": "markdown",
   "metadata": {},
   "source": [
    "#### Step 3: Set the following parameters for the Alpaca API call:\n",
    "\n",
    "- `tickers`: Use the tickers for the member’s stock and bond holdings.\n",
    "\n",
    "- `timeframe`: Use a time frame of one day.\n",
    "\n",
    "- `start_date` and `end_date`: Use the same date for these parameters, and format them with the date of the previous weekday (or `2020-08-07`). This is because you want the one closing price for the most-recent trading day.\n"
   ]
  },
  {
   "cell_type": "code",
   "execution_count": 68,
   "metadata": {},
   "outputs": [],
   "source": [
    "# Set the tickers for both the bond and stock portion of the portfolio\n",
    "tickers = ['SPY', 'AGG']\n",
    "\n",
    "# Set timeframe to 1D \n",
    "timeframe = '1D'\n",
    "\n",
    "# Format current date as ISO format\n",
    "# Set both the start and end date at the date of your prior weekday \n",
    "# This will give you the closing price of the previous trading day\n",
    "# Alternatively you can use a start and end date of 2020-08-07\n",
    "start_date = pd.Timestamp(\"2020-08-07\", tz=\"America/New_York\").isoformat()\n",
    "end_date = pd.Timestamp(\"2020-08-07\", tz=\"America/New_York\").isoformat()"
   ]
  },
  {
   "cell_type": "markdown",
   "metadata": {},
   "source": [
    "#### Step 4: Get the current closing prices for `SPY` and `AGG` by using the Alpaca `get_barset` function. Format the response as a Pandas DataFrame by including the `df` property at the end of the `get_barset` function."
   ]
  },
  {
   "cell_type": "code",
   "execution_count": 69,
   "metadata": {},
   "outputs": [
    {
     "data": {
      "text/html": [
       "<div>\n",
       "<style scoped>\n",
       "    .dataframe tbody tr th:only-of-type {\n",
       "        vertical-align: middle;\n",
       "    }\n",
       "\n",
       "    .dataframe tbody tr th {\n",
       "        vertical-align: top;\n",
       "    }\n",
       "\n",
       "    .dataframe thead tr th {\n",
       "        text-align: left;\n",
       "    }\n",
       "\n",
       "    .dataframe thead tr:last-of-type th {\n",
       "        text-align: right;\n",
       "    }\n",
       "</style>\n",
       "<table border=\"1\" class=\"dataframe\">\n",
       "  <thead>\n",
       "    <tr>\n",
       "      <th></th>\n",
       "      <th colspan=\"5\" halign=\"left\">AGG</th>\n",
       "      <th colspan=\"5\" halign=\"left\">SPY</th>\n",
       "    </tr>\n",
       "    <tr>\n",
       "      <th></th>\n",
       "      <th>open</th>\n",
       "      <th>high</th>\n",
       "      <th>low</th>\n",
       "      <th>close</th>\n",
       "      <th>volume</th>\n",
       "      <th>open</th>\n",
       "      <th>high</th>\n",
       "      <th>low</th>\n",
       "      <th>close</th>\n",
       "      <th>volume</th>\n",
       "    </tr>\n",
       "    <tr>\n",
       "      <th>time</th>\n",
       "      <th></th>\n",
       "      <th></th>\n",
       "      <th></th>\n",
       "      <th></th>\n",
       "      <th></th>\n",
       "      <th></th>\n",
       "      <th></th>\n",
       "      <th></th>\n",
       "      <th></th>\n",
       "      <th></th>\n",
       "    </tr>\n",
       "  </thead>\n",
       "  <tbody>\n",
       "    <tr>\n",
       "      <th>2020-08-07 00:00:00-04:00</th>\n",
       "      <td>119.66</td>\n",
       "      <td>119.73</td>\n",
       "      <td>119.395</td>\n",
       "      <td>119.445</td>\n",
       "      <td>8830420</td>\n",
       "      <td>333.28</td>\n",
       "      <td>334.88</td>\n",
       "      <td>332.3</td>\n",
       "      <td>334.55</td>\n",
       "      <td>98710236</td>\n",
       "    </tr>\n",
       "  </tbody>\n",
       "</table>\n",
       "</div>"
      ],
      "text/plain": [
       "                              AGG                                        SPY  \\\n",
       "                             open    high      low    close   volume    open   \n",
       "time                                                                           \n",
       "2020-08-07 00:00:00-04:00  119.66  119.73  119.395  119.445  8830420  333.28   \n",
       "\n",
       "                                                            \n",
       "                             high    low   close    volume  \n",
       "time                                                        \n",
       "2020-08-07 00:00:00-04:00  334.88  332.3  334.55  98710236  "
      ]
     },
     "execution_count": 69,
     "metadata": {},
     "output_type": "execute_result"
    }
   ],
   "source": [
    "# Use the Alpaca get_barset function to get current closing prices the portfolio\n",
    "# Be sure to set the `df` property after the function to format the response object as a DataFrame\n",
    "df_portfolio = alpaca.get_barset(\n",
    "    tickers,\n",
    "    timeframe,\n",
    "    start = start_date,\n",
    "    end = end_date\n",
    ").df\n",
    "\n",
    "# Review the first 5 rows of the Alpaca DataFrame\n",
    "df_portfolio.head()"
   ]
  },
  {
   "cell_type": "markdown",
   "metadata": {},
   "source": [
    "#### Step 5: Navigating the Alpaca response DataFrame, select the `SPY` and `AGG` closing prices, and store them as variables."
   ]
  },
  {
   "cell_type": "code",
   "execution_count": 29,
   "metadata": {},
   "outputs": [
    {
     "data": {
      "text/plain": [
       "119.445"
      ]
     },
     "execution_count": 29,
     "metadata": {},
     "output_type": "execute_result"
    }
   ],
   "source": [
    "# Access the closing price for AGG from the Alpaca DataFrame\n",
    "# Converting the value to a floating point number\n",
    "agg_close_price = df_portfolio['AGG']['close'][0]\n",
    "\n",
    "# Print the AGG closing price\n",
    "agg_close_price"
   ]
  },
  {
   "cell_type": "code",
   "execution_count": 28,
   "metadata": {},
   "outputs": [
    {
     "data": {
      "text/plain": [
       "334.55"
      ]
     },
     "execution_count": 28,
     "metadata": {},
     "output_type": "execute_result"
    }
   ],
   "source": [
    "# Access the closing price for SPY from the Alpaca DataFrame\n",
    "# Converting the value to a floating point number\n",
    "spy_close_price = df_portfolio['SPY']['close'][0]\n",
    "\n",
    "# Print the SPY closing price\n",
    "spy_close_price\n"
   ]
  },
  {
   "cell_type": "markdown",
   "metadata": {},
   "source": [
    "#### Step 6: Calculate the value, in US dollars, of the current amount of shares in each of the stock and bond portions of the portfolio, and print the results."
   ]
  },
  {
   "cell_type": "code",
   "execution_count": 30,
   "metadata": {},
   "outputs": [
    {
     "data": {
      "text/plain": [
       "23889.0"
      ]
     },
     "execution_count": 30,
     "metadata": {},
     "output_type": "execute_result"
    }
   ],
   "source": [
    "# Calculate the current value of the bond portion of the portfolio\n",
    "agg_value = agg_shares * agg_close_price\n",
    "\n",
    "# Print the current value of the bond portfolio\n",
    "agg_value\n"
   ]
  },
  {
   "cell_type": "code",
   "execution_count": 31,
   "metadata": {},
   "outputs": [
    {
     "data": {
      "text/plain": [
       "36800.5"
      ]
     },
     "execution_count": 31,
     "metadata": {},
     "output_type": "execute_result"
    }
   ],
   "source": [
    "# Calculate the current value of the stock portion of the portfolio\n",
    "spy_value = spy_shares * spy_close_price\n",
    "\n",
    "# Print the current value of the stock portfolio\n",
    "spy_value"
   ]
  },
  {
   "cell_type": "code",
   "execution_count": 32,
   "metadata": {},
   "outputs": [
    {
     "data": {
      "text/plain": [
       "60689.5"
      ]
     },
     "execution_count": 32,
     "metadata": {},
     "output_type": "execute_result"
    }
   ],
   "source": [
    "# Calculate the total value of the stock and bond portion of the portfolio\n",
    "total_stocks_bonds = agg_value + spy_value\n",
    "# Print the current balance of the stock and bond portion of the portfolio\n",
    "total_stocks_bonds"
   ]
  },
  {
   "cell_type": "code",
   "execution_count": 33,
   "metadata": {},
   "outputs": [
    {
     "data": {
      "text/plain": [
       "118623.388"
      ]
     },
     "execution_count": 33,
     "metadata": {},
     "output_type": "execute_result"
    }
   ],
   "source": [
    "# Calculate the total value of the member's entire savings portfolio\n",
    "# Add the value of the cryptocurrency walled to the value of the total stocks and bonds\n",
    "total_portfolio = total_crypto_wallet + total_stocks_bonds\n",
    "\n",
    "# Print current cryptocurrency wallet balance\n",
    "total_portfolio"
   ]
  },
  {
   "cell_type": "markdown",
   "metadata": {},
   "source": [
    "### Evaluate the Emergency Fund\n",
    "\n",
    "In this section, you’ll use the valuations for the cryptocurrency wallet and for the stock and bond portions of the portfolio to determine if the credit union member has enough savings to build an emergency fund into their financial plan. To do this, complete the following steps:\n",
    "\n",
    "1. Create a Python list named `savings_data` that has two elements. The first element contains the total value of the cryptocurrency wallet. The second element contains the total value of the stock and bond portions of the portfolio.\n",
    "\n",
    "2. Use the `savings_data` list to create a Pandas DataFrame named `savings_df`, and then display this DataFrame. The function to create the DataFrame should take the following three parameters:\n",
    "\n",
    "    - `savings_data`: Use the list that you just created.\n",
    "\n",
    "    - `columns`: Set this parameter equal to a Python list with a single value called `amount`.\n",
    "\n",
    "    - `index`: Set this parameter equal to a Python list with the values of `crypto` and `stock/bond`.\n",
    "\n",
    "3. Use the `savings_df` DataFrame to plot a pie chart that visualizes the composition of the member’s portfolio. The y-axis of the pie chart uses `amount`. Be sure to add a title.\n",
    "\n",
    "4. Using Python, determine if the current portfolio has enough to create an emergency fund as part of the member’s financial plan. Ideally, an emergency fund should equal to three times the member’s monthly income. To do this, implement the following steps:\n",
    "\n",
    "    1. Create a variable named `emergency_fund_value`, and set it equal to three times the value of the member’s `monthly_income` of $12000. (You set this earlier in Part 1).\n",
    "\n",
    "    2. Create a series of three if statements to determine if the member’s total portfolio is large enough to fund the emergency portfolio:\n",
    "\n",
    "        1. If the total portfolio value is greater than the emergency fund value, display a message congratulating the member for having enough money in this fund.\n",
    "\n",
    "        2. Else if the total portfolio value is equal to the emergency fund value, display a message congratulating the member on reaching this important financial goal.\n",
    "\n",
    "        3. Else the total portfolio is less than the emergency fund value, so display a message showing how many dollars away the member is from reaching the goal. (Subtract the total portfolio value from the emergency fund value.)\n"
   ]
  },
  {
   "cell_type": "markdown",
   "metadata": {},
   "source": [
    "#### Step 1: Create a Python list named `savings_data` that has two elements. The first element contains the total value of the cryptocurrency wallet. The second element contains the total value of the stock and bond portions of the portfolio."
   ]
  },
  {
   "cell_type": "code",
   "execution_count": 35,
   "metadata": {},
   "outputs": [
    {
     "data": {
      "text/plain": [
       "[57933.888, 60689.5]"
      ]
     },
     "execution_count": 35,
     "metadata": {},
     "output_type": "execute_result"
    }
   ],
   "source": [
    "# Consolidate financial assets data into a Python list\n",
    "savings_data = [total_crypto_wallet, total_stocks_bonds]\n",
    "\n",
    "# Review the Python list savings_data\n",
    "savings_data\n",
    "    "
   ]
  },
  {
   "cell_type": "markdown",
   "metadata": {},
   "source": [
    "#### Step 2: Use the `savings_data` list to create a Pandas DataFrame named `savings_df`, and then display this DataFrame. The function to create the DataFrame should take the following three parameters:\n",
    "\n",
    "- `savings_data`: Use the list that you just created.\n",
    "\n",
    "- `columns`: Set this parameter equal to a Python list with a single value called `amount`.\n",
    "\n",
    "- `index`: Set this parameter equal to a Python list with the values of `crypto` and `stock/bond`.\n"
   ]
  },
  {
   "cell_type": "code",
   "execution_count": 36,
   "metadata": {},
   "outputs": [
    {
     "data": {
      "text/html": [
       "<div>\n",
       "<style scoped>\n",
       "    .dataframe tbody tr th:only-of-type {\n",
       "        vertical-align: middle;\n",
       "    }\n",
       "\n",
       "    .dataframe tbody tr th {\n",
       "        vertical-align: top;\n",
       "    }\n",
       "\n",
       "    .dataframe thead th {\n",
       "        text-align: right;\n",
       "    }\n",
       "</style>\n",
       "<table border=\"1\" class=\"dataframe\">\n",
       "  <thead>\n",
       "    <tr style=\"text-align: right;\">\n",
       "      <th></th>\n",
       "      <th>amount</th>\n",
       "    </tr>\n",
       "  </thead>\n",
       "  <tbody>\n",
       "    <tr>\n",
       "      <th>crypto</th>\n",
       "      <td>57933.888</td>\n",
       "    </tr>\n",
       "    <tr>\n",
       "      <th>stock/bond</th>\n",
       "      <td>60689.500</td>\n",
       "    </tr>\n",
       "  </tbody>\n",
       "</table>\n",
       "</div>"
      ],
      "text/plain": [
       "               amount\n",
       "crypto      57933.888\n",
       "stock/bond  60689.500"
      ]
     },
     "execution_count": 36,
     "metadata": {},
     "output_type": "execute_result"
    }
   ],
   "source": [
    "# Create a Pandas DataFrame called savings_df \n",
    "savings_df = pd.DataFrame(savings_data,columns=['amount'], index=['crypto', 'stock/bond'])\n",
    "\n",
    "# Display the savings_df DataFrame\n",
    "savings_df\n"
   ]
  },
  {
   "cell_type": "markdown",
   "metadata": {},
   "source": [
    "#### Step 3: Use the `savings_df` DataFrame to plot a pie chart that visualizes the composition of the member’s portfolio. The y-axis of the pie chart uses `amount`. Be sure to add a title."
   ]
  },
  {
   "cell_type": "code",
   "execution_count": 38,
   "metadata": {},
   "outputs": [
    {
     "data": {
      "text/plain": [
       "<AxesSubplot:title={'center':'Total Vale of portfolio'}, ylabel='amount'>"
      ]
     },
     "execution_count": 38,
     "metadata": {},
     "output_type": "execute_result"
    },
    {
     "data": {
      "image/png": "[encoded data removed]",
      "text/plain": [
       "<Figure size 432x288 with 1 Axes>"
      ]
     },
     "metadata": {},
     "output_type": "display_data"
    }
   ],
   "source": [
    "# Plot the total value of the member's portfolio (crypto and stock/bond) in a pie chart\n",
    "savings_df.plot.pie(y='amount', title='Total Vale of portfolio')\n"
   ]
  },
  {
   "cell_type": "markdown",
   "metadata": {},
   "source": [
    "#### Step 4: Using Python, determine if the current portfolio has enough to create an emergency fund as part of the member’s financial plan. Ideally, an emergency fund should equal to three times the member’s monthly income. To do this, implement the following steps:\n",
    "\n",
    "Step 1. Create a variable named `emergency_fund_value`, and set it equal to three times the value of the member’s `monthly_income` of 12000. (You set this earlier in Part 1).\n",
    "\n",
    "Step 2. Create a series of three if statements to determine if the member’s total portfolio is large enough to fund the emergency portfolio:\n",
    "\n",
    "* If the total portfolio value is greater than the emergency fund value, display a message congratulating the member for having enough money in this fund.\n",
    "\n",
    "* Else if the total portfolio value is equal to the emergency fund value, display a message congratulating the member on reaching this important financial goal.\n",
    "\n",
    "* Else the total portfolio is less than the emergency fund value, so display a message showing how many dollars away the member is from reaching the goal. (Subtract the total portfolio value from the emergency fund value.)\n"
   ]
  },
  {
   "cell_type": "markdown",
   "metadata": {},
   "source": [
    "##### Step 4-1: Create a variable named `emergency_fund_value`, and set it equal to three times the value of the member’s `monthly_income` of 12000. (You set this earlier in Part 1)."
   ]
  },
  {
   "cell_type": "code",
   "execution_count": 50,
   "metadata": {},
   "outputs": [],
   "source": [
    "# Create a variable named emergency_fund_value\n",
    "emergency_fund_value = 3 *  monthly_income"
   ]
  },
  {
   "cell_type": "markdown",
   "metadata": {},
   "source": [
    "##### Step 4-2: Create a series of three if statements to determine if the member’s total portfolio is large enough to fund the emergency portfolio:\n",
    "\n",
    "* If the total portfolio value is greater than the emergency fund value, display a message congratulating the member for having enough money in this fund.\n",
    "\n",
    "* Else if the total portfolio value is equal to the emergency fund value, display a message congratulating the member on reaching this important financial goal.\n",
    "\n",
    "* Else the total portfolio is less than the emergency fund value, so display a message showing how many dollars away the member is from reaching the goal. (Subtract the total portfolio value from the emergency fund value.)"
   ]
  },
  {
   "cell_type": "code",
   "execution_count": 51,
   "metadata": {},
   "outputs": [
    {
     "name": "stdout",
     "output_type": "stream",
     "text": [
      "Congratulations you have enough money to create an emergency fund!\n"
     ]
    }
   ],
   "source": [
    "# Evaluate the possibility of creating an emergency fund with 3 conditions:\n",
    "if total_portfolio > emergency_fund_value:\n",
    "    print('Congratulations you have enough money to create an emergency fund!')\n",
    "elif total_portfolio == emergency_fund_value:\n",
    "    print('Congratulations you just reached an important financial goal. You can start to save an emergency fund.')\n",
    "else:\n",
    "    print(f'You are ${emergency_fund_value - total_portfolio:,.2f} away from reaching your goal.')"
   ]
  },
  {
   "cell_type": "markdown",
   "metadata": {},
   "source": [
    "## Part 2: Create a Financial Planner for Retirement"
   ]
  },
  {
   "cell_type": "markdown",
   "metadata": {},
   "source": [
    "### Create the Monte Carlo Simulation\n",
    "\n",
    "In this section, you’ll use the MCForecastTools library to create a Monte Carlo simulation for the member’s savings portfolio. To do this, complete the following steps:\n",
    "\n",
    "1. Make an API call via the Alpaca SDK to get 10 years of historical closing prices for a traditional 60/40 portfolio split: 60% stocks (SPY) and 40% bonds (AGG).\n",
    "\n",
    "2. Run a Monte Carlo simulation of 500 samples and 30 years for the 60/40 portfolio, and then plot the results.The following image shows the overlay line plot resulting from a simulation with these characteristics. However, because a random number generator is used to run each live Monte Carlo simulation, your image will differ slightly from this exact image:\n",
    "\n",
    "![A screenshot depicts the resulting plot.](Images/5-4-monte-carlo-line-plot.png)\n",
    "\n",
    "3. Plot the probability distribution of the Monte Carlo simulation. Plot the probability distribution of the Monte Carlo simulation. The following image shows the histogram plot resulting from a simulation with these characteristics. However, because a random number generator is used to run each live Monte Carlo simulation, your image will differ slightly from this exact image:\n",
    "\n",
    "![A screenshot depicts the histogram plot.](Images/5-4-monte-carlo-histogram.png)\n",
    "\n",
    "4. Generate the summary statistics for the Monte Carlo simulation.\n",
    "\n"
   ]
  },
  {
   "cell_type": "markdown",
   "metadata": {},
   "source": [
    "#### Step 1: Make an API call via the Alpaca SDK to get 10 years of historical closing prices for a traditional 60/40 portfolio split: 60% stocks (SPY) and 40% bonds (AGG)."
   ]
  },
  {
   "cell_type": "code",
   "execution_count": 88,
   "metadata": {},
   "outputs": [
    {
     "data": {
      "text/plain": [
       "2520"
      ]
     },
     "execution_count": 88,
     "metadata": {},
     "output_type": "execute_result"
    }
   ],
   "source": [
    "# Set start and end dates of 10 years back from your current date\n",
    "# Alternatively, you can use an end date of 2020-08-07 and work 10 years back from that date \n",
    "# Set most recent dates first, because alpaca has a limit of 1000\n",
    "# So we need to call three times because we want 10 years data of 10 * 252 = 2520\n",
    "start_date = pd.Timestamp(\"2010-08-07\", tz=\"America/New_York\").isoformat()\n",
    "end_date = pd.Timestamp(\"2020-08-07\", tz=\"America/New_York\").isoformat()\n",
    "\n"
   ]
  },
  {
   "cell_type": "code",
   "execution_count": 96,
   "metadata": {},
   "outputs": [
    {
     "data": {
      "text/html": [
       "<div>\n",
       "<style scoped>\n",
       "    .dataframe tbody tr th:only-of-type {\n",
       "        vertical-align: middle;\n",
       "    }\n",
       "\n",
       "    .dataframe tbody tr th {\n",
       "        vertical-align: top;\n",
       "    }\n",
       "\n",
       "    .dataframe thead tr th {\n",
       "        text-align: left;\n",
       "    }\n",
       "\n",
       "    .dataframe thead tr:last-of-type th {\n",
       "        text-align: right;\n",
       "    }\n",
       "</style>\n",
       "<table border=\"1\" class=\"dataframe\">\n",
       "  <thead>\n",
       "    <tr>\n",
       "      <th></th>\n",
       "      <th colspan=\"5\" halign=\"left\">AGG</th>\n",
       "      <th colspan=\"5\" halign=\"left\">SPY</th>\n",
       "    </tr>\n",
       "    <tr>\n",
       "      <th></th>\n",
       "      <th>open</th>\n",
       "      <th>high</th>\n",
       "      <th>low</th>\n",
       "      <th>close</th>\n",
       "      <th>volume</th>\n",
       "      <th>open</th>\n",
       "      <th>high</th>\n",
       "      <th>low</th>\n",
       "      <th>close</th>\n",
       "      <th>volume</th>\n",
       "    </tr>\n",
       "    <tr>\n",
       "      <th>time</th>\n",
       "      <th></th>\n",
       "      <th></th>\n",
       "      <th></th>\n",
       "      <th></th>\n",
       "      <th></th>\n",
       "      <th></th>\n",
       "      <th></th>\n",
       "      <th></th>\n",
       "      <th></th>\n",
       "      <th></th>\n",
       "    </tr>\n",
       "  </thead>\n",
       "  <tbody>\n",
       "    <tr>\n",
       "      <th>2010-08-09 00:00:00-04:00</th>\n",
       "      <td>107.66</td>\n",
       "      <td>107.680</td>\n",
       "      <td>107.5300</td>\n",
       "      <td>107.630</td>\n",
       "      <td>478988.0</td>\n",
       "      <td>112.9200</td>\n",
       "      <td>113.18</td>\n",
       "      <td>112.3200</td>\n",
       "      <td>112.9801</td>\n",
       "      <td>89387651</td>\n",
       "    </tr>\n",
       "    <tr>\n",
       "      <th>2010-08-10 00:00:00-04:00</th>\n",
       "      <td>107.63</td>\n",
       "      <td>107.920</td>\n",
       "      <td>107.5600</td>\n",
       "      <td>107.830</td>\n",
       "      <td>532447.0</td>\n",
       "      <td>112.0300</td>\n",
       "      <td>112.98</td>\n",
       "      <td>111.3701</td>\n",
       "      <td>112.4200</td>\n",
       "      <td>202262432</td>\n",
       "    </tr>\n",
       "    <tr>\n",
       "      <th>2010-08-11 00:00:00-04:00</th>\n",
       "      <td>107.91</td>\n",
       "      <td>107.956</td>\n",
       "      <td>107.7900</td>\n",
       "      <td>107.910</td>\n",
       "      <td>665686.0</td>\n",
       "      <td>110.6500</td>\n",
       "      <td>110.69</td>\n",
       "      <td>109.1200</td>\n",
       "      <td>109.2901</td>\n",
       "      <td>223970698</td>\n",
       "    </tr>\n",
       "    <tr>\n",
       "      <th>2010-08-12 00:00:00-04:00</th>\n",
       "      <td>107.93</td>\n",
       "      <td>107.980</td>\n",
       "      <td>107.6700</td>\n",
       "      <td>107.740</td>\n",
       "      <td>640614.0</td>\n",
       "      <td>107.6400</td>\n",
       "      <td>109.02</td>\n",
       "      <td>107.6000</td>\n",
       "      <td>108.6400</td>\n",
       "      <td>190434932</td>\n",
       "    </tr>\n",
       "    <tr>\n",
       "      <th>2010-08-13 00:00:00-04:00</th>\n",
       "      <td>107.77</td>\n",
       "      <td>108.000</td>\n",
       "      <td>107.6700</td>\n",
       "      <td>108.000</td>\n",
       "      <td>563778.0</td>\n",
       "      <td>108.2900</td>\n",
       "      <td>108.96</td>\n",
       "      <td>108.1800</td>\n",
       "      <td>108.3000</td>\n",
       "      <td>130664078</td>\n",
       "    </tr>\n",
       "    <tr>\n",
       "      <th>...</th>\n",
       "      <td>...</td>\n",
       "      <td>...</td>\n",
       "      <td>...</td>\n",
       "      <td>...</td>\n",
       "      <td>...</td>\n",
       "      <td>...</td>\n",
       "      <td>...</td>\n",
       "      <td>...</td>\n",
       "      <td>...</td>\n",
       "      <td>...</td>\n",
       "    </tr>\n",
       "    <tr>\n",
       "      <th>2020-08-03 00:00:00-04:00</th>\n",
       "      <td>119.37</td>\n",
       "      <td>119.400</td>\n",
       "      <td>119.1903</td>\n",
       "      <td>119.400</td>\n",
       "      <td>17837420.0</td>\n",
       "      <td>328.3200</td>\n",
       "      <td>329.62</td>\n",
       "      <td>327.7300</td>\n",
       "      <td>328.7600</td>\n",
       "      <td>71741125</td>\n",
       "    </tr>\n",
       "    <tr>\n",
       "      <th>2020-08-04 00:00:00-04:00</th>\n",
       "      <td>119.42</td>\n",
       "      <td>119.630</td>\n",
       "      <td>119.4200</td>\n",
       "      <td>119.630</td>\n",
       "      <td>21512268.0</td>\n",
       "      <td>327.8600</td>\n",
       "      <td>330.06</td>\n",
       "      <td>327.8600</td>\n",
       "      <td>330.0300</td>\n",
       "      <td>73684427</td>\n",
       "    </tr>\n",
       "    <tr>\n",
       "      <th>2020-08-05 00:00:00-04:00</th>\n",
       "      <td>119.39</td>\n",
       "      <td>119.490</td>\n",
       "      <td>119.3100</td>\n",
       "      <td>119.400</td>\n",
       "      <td>34175883.0</td>\n",
       "      <td>331.4700</td>\n",
       "      <td>332.39</td>\n",
       "      <td>331.1800</td>\n",
       "      <td>332.0600</td>\n",
       "      <td>72846458</td>\n",
       "    </tr>\n",
       "    <tr>\n",
       "      <th>2020-08-06 00:00:00-04:00</th>\n",
       "      <td>119.62</td>\n",
       "      <td>119.730</td>\n",
       "      <td>119.5300</td>\n",
       "      <td>119.580</td>\n",
       "      <td>9009216.0</td>\n",
       "      <td>331.4799</td>\n",
       "      <td>334.46</td>\n",
       "      <td>331.1300</td>\n",
       "      <td>334.3100</td>\n",
       "      <td>76900649</td>\n",
       "    </tr>\n",
       "    <tr>\n",
       "      <th>2020-08-07 00:00:00-04:00</th>\n",
       "      <td>119.66</td>\n",
       "      <td>119.730</td>\n",
       "      <td>119.3950</td>\n",
       "      <td>119.445</td>\n",
       "      <td>8830420.0</td>\n",
       "      <td>333.2800</td>\n",
       "      <td>334.88</td>\n",
       "      <td>332.3000</td>\n",
       "      <td>334.5500</td>\n",
       "      <td>98710236</td>\n",
       "    </tr>\n",
       "  </tbody>\n",
       "</table>\n",
       "<p>2518 rows × 10 columns</p>\n",
       "</div>"
      ],
      "text/plain": [
       "                              AGG                                          \\\n",
       "                             open     high       low    close      volume   \n",
       "time                                                                        \n",
       "2010-08-09 00:00:00-04:00  107.66  107.680  107.5300  107.630    478988.0   \n",
       "2010-08-10 00:00:00-04:00  107.63  107.920  107.5600  107.830    532447.0   \n",
       "2010-08-11 00:00:00-04:00  107.91  107.956  107.7900  107.910    665686.0   \n",
       "2010-08-12 00:00:00-04:00  107.93  107.980  107.6700  107.740    640614.0   \n",
       "2010-08-13 00:00:00-04:00  107.77  108.000  107.6700  108.000    563778.0   \n",
       "...                           ...      ...       ...      ...         ...   \n",
       "2020-08-03 00:00:00-04:00  119.37  119.400  119.1903  119.400  17837420.0   \n",
       "2020-08-04 00:00:00-04:00  119.42  119.630  119.4200  119.630  21512268.0   \n",
       "2020-08-05 00:00:00-04:00  119.39  119.490  119.3100  119.400  34175883.0   \n",
       "2020-08-06 00:00:00-04:00  119.62  119.730  119.5300  119.580   9009216.0   \n",
       "2020-08-07 00:00:00-04:00  119.66  119.730  119.3950  119.445   8830420.0   \n",
       "\n",
       "                                SPY                                         \n",
       "                               open    high       low     close     volume  \n",
       "time                                                                        \n",
       "2010-08-09 00:00:00-04:00  112.9200  113.18  112.3200  112.9801   89387651  \n",
       "2010-08-10 00:00:00-04:00  112.0300  112.98  111.3701  112.4200  202262432  \n",
       "2010-08-11 00:00:00-04:00  110.6500  110.69  109.1200  109.2901  223970698  \n",
       "2010-08-12 00:00:00-04:00  107.6400  109.02  107.6000  108.6400  190434932  \n",
       "2010-08-13 00:00:00-04:00  108.2900  108.96  108.1800  108.3000  130664078  \n",
       "...                             ...     ...       ...       ...        ...  \n",
       "2020-08-03 00:00:00-04:00  328.3200  329.62  327.7300  328.7600   71741125  \n",
       "2020-08-04 00:00:00-04:00  327.8600  330.06  327.8600  330.0300   73684427  \n",
       "2020-08-05 00:00:00-04:00  331.4700  332.39  331.1800  332.0600   72846458  \n",
       "2020-08-06 00:00:00-04:00  331.4799  334.46  331.1300  334.3100   76900649  \n",
       "2020-08-07 00:00:00-04:00  333.2800  334.88  332.3000  334.5500   98710236  \n",
       "\n",
       "[2518 rows x 10 columns]"
      ]
     },
     "metadata": {},
     "output_type": "display_data"
    }
   ],
   "source": [
    "# Use the Alpaca get_barset function to make the API call to get the 10 years worth of pricing data\n",
    "# The tickers and timeframe parameters should have been set in Part 1 of this activity \n",
    "# The start and end dates should be updated with the information set above\n",
    "# Remember to add the df property to the end of the call so the response is returned as a DataFrame\n",
    "\n",
    "#  Frist modified dates and call\n",
    "start_date = pd.Timestamp(\"2016-08-18\", tz=\"America/New_York\").isoformat()\n",
    "end_date = pd.Timestamp(\"2020-08-07\", tz=\"America/New_York\").isoformat()\n",
    "\n",
    "yr_10_prices_1_df = alpaca.get_barset(\n",
    "    tickers,\n",
    "    timeframe,\n",
    "    start = start_date,\n",
    "    end = end_date,\n",
    "    limit=1000\n",
    ").df\n",
    "\n",
    "#  Second modified dates and call\n",
    "start_date = pd.Timestamp(\"2012-08-27\", tz=\"America/New_York\").isoformat()\n",
    "end_date = pd.Timestamp(\"2016-08-17\", tz=\"America/New_York\").isoformat()\n",
    "\n",
    "yr_10_prices_2_df = alpaca.get_barset(\n",
    "    tickers,\n",
    "    timeframe,\n",
    "    start = start_date,\n",
    "    end = end_date,\n",
    "    limit=1000\n",
    ").df\n",
    "\n",
    "#  Third modified dates and call\n",
    "start_date = pd.Timestamp(\"2010-08-07\", tz=\"America/New_York\").isoformat()\n",
    "end_date = pd.Timestamp(\"2012-08-26\", tz=\"America/New_York\").isoformat()\n",
    "\n",
    "yr_10_prices_3_df = alpaca.get_barset(\n",
    "    tickers,\n",
    "    timeframe,\n",
    "    start = start_date,\n",
    "    end = end_date,\n",
    "    limit=1000\n",
    ").df\n",
    "\n",
    "\n",
    "# Display both the first and last five rows of the DataFrame\n",
    "full_yr_10_prices_df = pd.concat([yr_10_prices_3_df, yr_10_prices_2_df, yr_10_prices_1_df], axis=0)\n",
    "display(full_yr_10_prices_df)"
   ]
  },
  {
   "cell_type": "markdown",
   "metadata": {},
   "source": [
    "#### Step 2: Run a Monte Carlo simulation of 500 samples and 30 years for the 60/40 portfolio, and then plot the results."
   ]
  },
  {
   "cell_type": "code",
   "execution_count": 98,
   "metadata": {},
   "outputs": [
    {
     "data": {
      "text/html": [
       "<div>\n",
       "<style scoped>\n",
       "    .dataframe tbody tr th:only-of-type {\n",
       "        vertical-align: middle;\n",
       "    }\n",
       "\n",
       "    .dataframe tbody tr th {\n",
       "        vertical-align: top;\n",
       "    }\n",
       "\n",
       "    .dataframe thead tr th {\n",
       "        text-align: left;\n",
       "    }\n",
       "\n",
       "    .dataframe thead tr:last-of-type th {\n",
       "        text-align: right;\n",
       "    }\n",
       "</style>\n",
       "<table border=\"1\" class=\"dataframe\">\n",
       "  <thead>\n",
       "    <tr>\n",
       "      <th></th>\n",
       "      <th colspan=\"6\" halign=\"left\">AGG</th>\n",
       "      <th colspan=\"6\" halign=\"left\">SPY</th>\n",
       "    </tr>\n",
       "    <tr>\n",
       "      <th></th>\n",
       "      <th>open</th>\n",
       "      <th>high</th>\n",
       "      <th>low</th>\n",
       "      <th>close</th>\n",
       "      <th>volume</th>\n",
       "      <th>daily_return</th>\n",
       "      <th>open</th>\n",
       "      <th>high</th>\n",
       "      <th>low</th>\n",
       "      <th>close</th>\n",
       "      <th>volume</th>\n",
       "      <th>daily_return</th>\n",
       "    </tr>\n",
       "    <tr>\n",
       "      <th>time</th>\n",
       "      <th></th>\n",
       "      <th></th>\n",
       "      <th></th>\n",
       "      <th></th>\n",
       "      <th></th>\n",
       "      <th></th>\n",
       "      <th></th>\n",
       "      <th></th>\n",
       "      <th></th>\n",
       "      <th></th>\n",
       "      <th></th>\n",
       "      <th></th>\n",
       "    </tr>\n",
       "  </thead>\n",
       "  <tbody>\n",
       "    <tr>\n",
       "      <th>2010-08-09 00:00:00-04:00</th>\n",
       "      <td>107.66</td>\n",
       "      <td>107.680</td>\n",
       "      <td>107.53</td>\n",
       "      <td>107.63</td>\n",
       "      <td>478988.0</td>\n",
       "      <td>NaN</td>\n",
       "      <td>112.92</td>\n",
       "      <td>113.18</td>\n",
       "      <td>112.3200</td>\n",
       "      <td>112.9801</td>\n",
       "      <td>89387651</td>\n",
       "      <td>NaN</td>\n",
       "    </tr>\n",
       "    <tr>\n",
       "      <th>2010-08-10 00:00:00-04:00</th>\n",
       "      <td>107.63</td>\n",
       "      <td>107.920</td>\n",
       "      <td>107.56</td>\n",
       "      <td>107.83</td>\n",
       "      <td>532447.0</td>\n",
       "      <td>0.001858</td>\n",
       "      <td>112.03</td>\n",
       "      <td>112.98</td>\n",
       "      <td>111.3701</td>\n",
       "      <td>112.4200</td>\n",
       "      <td>202262432</td>\n",
       "      <td>-0.004958</td>\n",
       "    </tr>\n",
       "    <tr>\n",
       "      <th>2010-08-11 00:00:00-04:00</th>\n",
       "      <td>107.91</td>\n",
       "      <td>107.956</td>\n",
       "      <td>107.79</td>\n",
       "      <td>107.91</td>\n",
       "      <td>665686.0</td>\n",
       "      <td>0.000742</td>\n",
       "      <td>110.65</td>\n",
       "      <td>110.69</td>\n",
       "      <td>109.1200</td>\n",
       "      <td>109.2901</td>\n",
       "      <td>223970698</td>\n",
       "      <td>-0.027841</td>\n",
       "    </tr>\n",
       "    <tr>\n",
       "      <th>2010-08-12 00:00:00-04:00</th>\n",
       "      <td>107.93</td>\n",
       "      <td>107.980</td>\n",
       "      <td>107.67</td>\n",
       "      <td>107.74</td>\n",
       "      <td>640614.0</td>\n",
       "      <td>-0.001575</td>\n",
       "      <td>107.64</td>\n",
       "      <td>109.02</td>\n",
       "      <td>107.6000</td>\n",
       "      <td>108.6400</td>\n",
       "      <td>190434932</td>\n",
       "      <td>-0.005948</td>\n",
       "    </tr>\n",
       "    <tr>\n",
       "      <th>2010-08-13 00:00:00-04:00</th>\n",
       "      <td>107.77</td>\n",
       "      <td>108.000</td>\n",
       "      <td>107.67</td>\n",
       "      <td>108.00</td>\n",
       "      <td>563778.0</td>\n",
       "      <td>0.002413</td>\n",
       "      <td>108.29</td>\n",
       "      <td>108.96</td>\n",
       "      <td>108.1800</td>\n",
       "      <td>108.3000</td>\n",
       "      <td>130664078</td>\n",
       "      <td>-0.003130</td>\n",
       "    </tr>\n",
       "  </tbody>\n",
       "</table>\n",
       "</div>"
      ],
      "text/plain": [
       "                              AGG                                     \\\n",
       "                             open     high     low   close    volume   \n",
       "time                                                                   \n",
       "2010-08-09 00:00:00-04:00  107.66  107.680  107.53  107.63  478988.0   \n",
       "2010-08-10 00:00:00-04:00  107.63  107.920  107.56  107.83  532447.0   \n",
       "2010-08-11 00:00:00-04:00  107.91  107.956  107.79  107.91  665686.0   \n",
       "2010-08-12 00:00:00-04:00  107.93  107.980  107.67  107.74  640614.0   \n",
       "2010-08-13 00:00:00-04:00  107.77  108.000  107.67  108.00  563778.0   \n",
       "\n",
       "                                           SPY                              \\\n",
       "                          daily_return    open    high       low     close   \n",
       "time                                                                         \n",
       "2010-08-09 00:00:00-04:00          NaN  112.92  113.18  112.3200  112.9801   \n",
       "2010-08-10 00:00:00-04:00     0.001858  112.03  112.98  111.3701  112.4200   \n",
       "2010-08-11 00:00:00-04:00     0.000742  110.65  110.69  109.1200  109.2901   \n",
       "2010-08-12 00:00:00-04:00    -0.001575  107.64  109.02  107.6000  108.6400   \n",
       "2010-08-13 00:00:00-04:00     0.002413  108.29  108.96  108.1800  108.3000   \n",
       "\n",
       "                                                   \n",
       "                              volume daily_return  \n",
       "time                                               \n",
       "2010-08-09 00:00:00-04:00   89387651          NaN  \n",
       "2010-08-10 00:00:00-04:00  202262432    -0.004958  \n",
       "2010-08-11 00:00:00-04:00  223970698    -0.027841  \n",
       "2010-08-12 00:00:00-04:00  190434932    -0.005948  \n",
       "2010-08-13 00:00:00-04:00  130664078    -0.003130  "
      ]
     },
     "execution_count": 98,
     "metadata": {},
     "output_type": "execute_result"
    }
   ],
   "source": [
    "# Configure the Monte Carlo simulation to forecast 30 years cumulative returns\n",
    "# The weights should be split 40% to AGG and 60% to SPY.\n",
    "# Run 500 samples.\n",
    "MC_40_AGG_60_SPY = MCSimulation(\n",
    "    portfolio_data = full_yr_10_prices_df,\n",
    "    weights = [.4,.6],\n",
    "    num_simulation = 500,\n",
    "    num_trading_days = 252*30\n",
    ")\n",
    "\n",
    "# Review the simulation input data\n",
    "MC_40_AGG_60_SPY.portfolio_data.head()"
   ]
  },
  {
   "cell_type": "code",
   "execution_count": 99,
   "metadata": {},
   "outputs": [
    {
     "name": "stdout",
     "output_type": "stream",
     "text": [
      "Running Monte Carlo simulation number 0.\n",
      "Running Monte Carlo simulation number 10.\n",
      "Running Monte Carlo simulation number 20.\n",
      "Running Monte Carlo simulation number 30.\n",
      "Running Monte Carlo simulation number 40.\n",
      "Running Monte Carlo simulation number 50.\n",
      "Running Monte Carlo simulation number 60.\n",
      "Running Monte Carlo simulation number 70.\n",
      "Running Monte Carlo simulation number 80.\n",
      "Running Monte Carlo simulation number 90.\n",
      "Running Monte Carlo simulation number 100.\n",
      "Running Monte Carlo simulation number 110.\n",
      "Running Monte Carlo simulation number 120.\n",
      "Running Monte Carlo simulation number 130.\n",
      "Running Monte Carlo simulation number 140.\n",
      "Running Monte Carlo simulation number 150.\n",
      "Running Monte Carlo simulation number 160.\n",
      "Running Monte Carlo simulation number 170.\n",
      "Running Monte Carlo simulation number 180.\n",
      "Running Monte Carlo simulation number 190.\n",
      "Running Monte Carlo simulation number 200.\n",
      "Running Monte Carlo simulation number 210.\n",
      "Running Monte Carlo simulation number 220.\n",
      "Running Monte Carlo simulation number 230.\n",
      "Running Monte Carlo simulation number 240.\n",
      "Running Monte Carlo simulation number 250.\n",
      "Running Monte Carlo simulation number 260.\n",
      "Running Monte Carlo simulation number 270.\n",
      "Running Monte Carlo simulation number 280.\n",
      "Running Monte Carlo simulation number 290.\n",
      "Running Monte Carlo simulation number 300.\n",
      "Running Monte Carlo simulation number 310.\n",
      "Running Monte Carlo simulation number 320.\n",
      "Running Monte Carlo simulation number 330.\n",
      "Running Monte Carlo simulation number 340.\n",
      "Running Monte Carlo simulation number 350.\n",
      "Running Monte Carlo simulation number 360.\n",
      "Running Monte Carlo simulation number 370.\n",
      "Running Monte Carlo simulation number 380.\n",
      "Running Monte Carlo simulation number 390.\n",
      "Running Monte Carlo simulation number 400.\n",
      "Running Monte Carlo simulation number 410.\n",
      "Running Monte Carlo simulation number 420.\n",
      "Running Monte Carlo simulation number 430.\n",
      "Running Monte Carlo simulation number 440.\n",
      "Running Monte Carlo simulation number 450.\n",
      "Running Monte Carlo simulation number 460.\n",
      "Running Monte Carlo simulation number 470.\n",
      "Running Monte Carlo simulation number 480.\n",
      "Running Monte Carlo simulation number 490.\n"
     ]
    },
    {
     "data": {
      "text/html": [
       "<div>\n",
       "<style scoped>\n",
       "    .dataframe tbody tr th:only-of-type {\n",
       "        vertical-align: middle;\n",
       "    }\n",
       "\n",
       "    .dataframe tbody tr th {\n",
       "        vertical-align: top;\n",
       "    }\n",
       "\n",
       "    .dataframe thead th {\n",
       "        text-align: right;\n",
       "    }\n",
       "</style>\n",
       "<table border=\"1\" class=\"dataframe\">\n",
       "  <thead>\n",
       "    <tr style=\"text-align: right;\">\n",
       "      <th></th>\n",
       "      <th>0</th>\n",
       "      <th>1</th>\n",
       "      <th>2</th>\n",
       "      <th>3</th>\n",
       "      <th>4</th>\n",
       "      <th>5</th>\n",
       "      <th>6</th>\n",
       "      <th>7</th>\n",
       "      <th>8</th>\n",
       "      <th>9</th>\n",
       "      <th>...</th>\n",
       "      <th>490</th>\n",
       "      <th>491</th>\n",
       "      <th>492</th>\n",
       "      <th>493</th>\n",
       "      <th>494</th>\n",
       "      <th>495</th>\n",
       "      <th>496</th>\n",
       "      <th>497</th>\n",
       "      <th>498</th>\n",
       "      <th>499</th>\n",
       "    </tr>\n",
       "  </thead>\n",
       "  <tbody>\n",
       "    <tr>\n",
       "      <th>0</th>\n",
       "      <td>1.000000</td>\n",
       "      <td>1.000000</td>\n",
       "      <td>1.000000</td>\n",
       "      <td>1.000000</td>\n",
       "      <td>1.000000</td>\n",
       "      <td>1.000000</td>\n",
       "      <td>1.000000</td>\n",
       "      <td>1.000000</td>\n",
       "      <td>1.000000</td>\n",
       "      <td>1.000000</td>\n",
       "      <td>...</td>\n",
       "      <td>1.000000</td>\n",
       "      <td>1.000000</td>\n",
       "      <td>1.000000</td>\n",
       "      <td>1.000000</td>\n",
       "      <td>1.000000</td>\n",
       "      <td>1.000000</td>\n",
       "      <td>1.000000</td>\n",
       "      <td>1.000000</td>\n",
       "      <td>1.000000</td>\n",
       "      <td>1.000000</td>\n",
       "    </tr>\n",
       "    <tr>\n",
       "      <th>1</th>\n",
       "      <td>1.006572</td>\n",
       "      <td>1.000831</td>\n",
       "      <td>1.002945</td>\n",
       "      <td>1.002743</td>\n",
       "      <td>0.992512</td>\n",
       "      <td>1.004625</td>\n",
       "      <td>0.998606</td>\n",
       "      <td>0.993105</td>\n",
       "      <td>0.993421</td>\n",
       "      <td>1.012487</td>\n",
       "      <td>...</td>\n",
       "      <td>1.004070</td>\n",
       "      <td>1.004779</td>\n",
       "      <td>1.017574</td>\n",
       "      <td>1.014152</td>\n",
       "      <td>1.003529</td>\n",
       "      <td>0.998427</td>\n",
       "      <td>1.004585</td>\n",
       "      <td>1.004354</td>\n",
       "      <td>0.996331</td>\n",
       "      <td>1.014424</td>\n",
       "    </tr>\n",
       "    <tr>\n",
       "      <th>2</th>\n",
       "      <td>1.012104</td>\n",
       "      <td>1.007888</td>\n",
       "      <td>1.009927</td>\n",
       "      <td>1.000735</td>\n",
       "      <td>0.996567</td>\n",
       "      <td>1.008577</td>\n",
       "      <td>1.005507</td>\n",
       "      <td>0.998914</td>\n",
       "      <td>1.003702</td>\n",
       "      <td>1.018005</td>\n",
       "      <td>...</td>\n",
       "      <td>0.997887</td>\n",
       "      <td>1.009771</td>\n",
       "      <td>1.019144</td>\n",
       "      <td>1.015848</td>\n",
       "      <td>0.988936</td>\n",
       "      <td>0.997284</td>\n",
       "      <td>1.016550</td>\n",
       "      <td>1.008569</td>\n",
       "      <td>0.999591</td>\n",
       "      <td>1.021622</td>\n",
       "    </tr>\n",
       "    <tr>\n",
       "      <th>3</th>\n",
       "      <td>1.000272</td>\n",
       "      <td>1.014646</td>\n",
       "      <td>1.014921</td>\n",
       "      <td>0.990617</td>\n",
       "      <td>0.995631</td>\n",
       "      <td>1.014139</td>\n",
       "      <td>1.011498</td>\n",
       "      <td>0.996125</td>\n",
       "      <td>0.997113</td>\n",
       "      <td>1.017688</td>\n",
       "      <td>...</td>\n",
       "      <td>0.999060</td>\n",
       "      <td>1.014056</td>\n",
       "      <td>1.029084</td>\n",
       "      <td>1.031356</td>\n",
       "      <td>0.993812</td>\n",
       "      <td>1.004187</td>\n",
       "      <td>1.005489</td>\n",
       "      <td>0.994080</td>\n",
       "      <td>0.998228</td>\n",
       "      <td>1.030920</td>\n",
       "    </tr>\n",
       "    <tr>\n",
       "      <th>4</th>\n",
       "      <td>0.996887</td>\n",
       "      <td>1.013704</td>\n",
       "      <td>1.021334</td>\n",
       "      <td>0.991010</td>\n",
       "      <td>0.991904</td>\n",
       "      <td>1.015374</td>\n",
       "      <td>1.013622</td>\n",
       "      <td>0.991477</td>\n",
       "      <td>0.996217</td>\n",
       "      <td>1.012258</td>\n",
       "      <td>...</td>\n",
       "      <td>1.011595</td>\n",
       "      <td>1.011851</td>\n",
       "      <td>1.019336</td>\n",
       "      <td>1.035684</td>\n",
       "      <td>0.993223</td>\n",
       "      <td>0.998970</td>\n",
       "      <td>1.008808</td>\n",
       "      <td>0.999338</td>\n",
       "      <td>1.007654</td>\n",
       "      <td>1.026613</td>\n",
       "    </tr>\n",
       "    <tr>\n",
       "      <th>...</th>\n",
       "      <td>...</td>\n",
       "      <td>...</td>\n",
       "      <td>...</td>\n",
       "      <td>...</td>\n",
       "      <td>...</td>\n",
       "      <td>...</td>\n",
       "      <td>...</td>\n",
       "      <td>...</td>\n",
       "      <td>...</td>\n",
       "      <td>...</td>\n",
       "      <td>...</td>\n",
       "      <td>...</td>\n",
       "      <td>...</td>\n",
       "      <td>...</td>\n",
       "      <td>...</td>\n",
       "      <td>...</td>\n",
       "      <td>...</td>\n",
       "      <td>...</td>\n",
       "      <td>...</td>\n",
       "      <td>...</td>\n",
       "      <td>...</td>\n",
       "    </tr>\n",
       "    <tr>\n",
       "      <th>7556</th>\n",
       "      <td>8.776060</td>\n",
       "      <td>11.507783</td>\n",
       "      <td>5.825764</td>\n",
       "      <td>4.560098</td>\n",
       "      <td>9.762421</td>\n",
       "      <td>13.713677</td>\n",
       "      <td>5.980493</td>\n",
       "      <td>4.933498</td>\n",
       "      <td>24.674422</td>\n",
       "      <td>11.489399</td>\n",
       "      <td>...</td>\n",
       "      <td>18.691198</td>\n",
       "      <td>5.998513</td>\n",
       "      <td>7.537086</td>\n",
       "      <td>12.771247</td>\n",
       "      <td>5.332768</td>\n",
       "      <td>6.188805</td>\n",
       "      <td>4.416484</td>\n",
       "      <td>12.912558</td>\n",
       "      <td>6.664070</td>\n",
       "      <td>40.979745</td>\n",
       "    </tr>\n",
       "    <tr>\n",
       "      <th>7557</th>\n",
       "      <td>8.725278</td>\n",
       "      <td>11.493763</td>\n",
       "      <td>5.794216</td>\n",
       "      <td>4.587571</td>\n",
       "      <td>9.720401</td>\n",
       "      <td>13.836003</td>\n",
       "      <td>5.911389</td>\n",
       "      <td>4.891225</td>\n",
       "      <td>24.539012</td>\n",
       "      <td>11.487051</td>\n",
       "      <td>...</td>\n",
       "      <td>18.749668</td>\n",
       "      <td>6.017345</td>\n",
       "      <td>7.521056</td>\n",
       "      <td>12.949559</td>\n",
       "      <td>5.357499</td>\n",
       "      <td>6.132656</td>\n",
       "      <td>4.432237</td>\n",
       "      <td>12.966558</td>\n",
       "      <td>6.674480</td>\n",
       "      <td>41.489039</td>\n",
       "    </tr>\n",
       "    <tr>\n",
       "      <th>7558</th>\n",
       "      <td>8.679988</td>\n",
       "      <td>11.390770</td>\n",
       "      <td>5.784718</td>\n",
       "      <td>4.611510</td>\n",
       "      <td>9.687558</td>\n",
       "      <td>13.903964</td>\n",
       "      <td>5.967375</td>\n",
       "      <td>4.964168</td>\n",
       "      <td>24.486736</td>\n",
       "      <td>11.398555</td>\n",
       "      <td>...</td>\n",
       "      <td>18.643811</td>\n",
       "      <td>6.072145</td>\n",
       "      <td>7.534360</td>\n",
       "      <td>12.904908</td>\n",
       "      <td>5.408366</td>\n",
       "      <td>6.197918</td>\n",
       "      <td>4.462349</td>\n",
       "      <td>12.998265</td>\n",
       "      <td>6.711658</td>\n",
       "      <td>41.566404</td>\n",
       "    </tr>\n",
       "    <tr>\n",
       "      <th>7559</th>\n",
       "      <td>8.656338</td>\n",
       "      <td>11.386254</td>\n",
       "      <td>5.810421</td>\n",
       "      <td>4.653950</td>\n",
       "      <td>9.710136</td>\n",
       "      <td>13.694916</td>\n",
       "      <td>5.924536</td>\n",
       "      <td>4.973094</td>\n",
       "      <td>24.630655</td>\n",
       "      <td>11.383864</td>\n",
       "      <td>...</td>\n",
       "      <td>18.776472</td>\n",
       "      <td>6.058072</td>\n",
       "      <td>7.561056</td>\n",
       "      <td>13.050205</td>\n",
       "      <td>5.516347</td>\n",
       "      <td>6.168670</td>\n",
       "      <td>4.458849</td>\n",
       "      <td>12.958078</td>\n",
       "      <td>6.696845</td>\n",
       "      <td>41.532274</td>\n",
       "    </tr>\n",
       "    <tr>\n",
       "      <th>7560</th>\n",
       "      <td>8.722353</td>\n",
       "      <td>11.381726</td>\n",
       "      <td>5.793608</td>\n",
       "      <td>4.651969</td>\n",
       "      <td>9.676396</td>\n",
       "      <td>13.695317</td>\n",
       "      <td>5.970135</td>\n",
       "      <td>5.012258</td>\n",
       "      <td>24.588939</td>\n",
       "      <td>11.356582</td>\n",
       "      <td>...</td>\n",
       "      <td>18.793330</td>\n",
       "      <td>6.020954</td>\n",
       "      <td>7.558174</td>\n",
       "      <td>12.948249</td>\n",
       "      <td>5.447739</td>\n",
       "      <td>6.276989</td>\n",
       "      <td>4.468644</td>\n",
       "      <td>13.060495</td>\n",
       "      <td>6.728916</td>\n",
       "      <td>41.602091</td>\n",
       "    </tr>\n",
       "  </tbody>\n",
       "</table>\n",
       "<p>7561 rows × 500 columns</p>\n",
       "</div>"
      ],
      "text/plain": [
       "           0          1         2         3         4          5         6    \\\n",
       "0     1.000000   1.000000  1.000000  1.000000  1.000000   1.000000  1.000000   \n",
       "1     1.006572   1.000831  1.002945  1.002743  0.992512   1.004625  0.998606   \n",
       "2     1.012104   1.007888  1.009927  1.000735  0.996567   1.008577  1.005507   \n",
       "3     1.000272   1.014646  1.014921  0.990617  0.995631   1.014139  1.011498   \n",
       "4     0.996887   1.013704  1.021334  0.991010  0.991904   1.015374  1.013622   \n",
       "...        ...        ...       ...       ...       ...        ...       ...   \n",
       "7556  8.776060  11.507783  5.825764  4.560098  9.762421  13.713677  5.980493   \n",
       "7557  8.725278  11.493763  5.794216  4.587571  9.720401  13.836003  5.911389   \n",
       "7558  8.679988  11.390770  5.784718  4.611510  9.687558  13.903964  5.967375   \n",
       "7559  8.656338  11.386254  5.810421  4.653950  9.710136  13.694916  5.924536   \n",
       "7560  8.722353  11.381726  5.793608  4.651969  9.676396  13.695317  5.970135   \n",
       "\n",
       "           7          8          9    ...        490       491       492  \\\n",
       "0     1.000000   1.000000   1.000000  ...   1.000000  1.000000  1.000000   \n",
       "1     0.993105   0.993421   1.012487  ...   1.004070  1.004779  1.017574   \n",
       "2     0.998914   1.003702   1.018005  ...   0.997887  1.009771  1.019144   \n",
       "3     0.996125   0.997113   1.017688  ...   0.999060  1.014056  1.029084   \n",
       "4     0.991477   0.996217   1.012258  ...   1.011595  1.011851  1.019336   \n",
       "...        ...        ...        ...  ...        ...       ...       ...   \n",
       "7556  4.933498  24.674422  11.489399  ...  18.691198  5.998513  7.537086   \n",
       "7557  4.891225  24.539012  11.487051  ...  18.749668  6.017345  7.521056   \n",
       "7558  4.964168  24.486736  11.398555  ...  18.643811  6.072145  7.534360   \n",
       "7559  4.973094  24.630655  11.383864  ...  18.776472  6.058072  7.561056   \n",
       "7560  5.012258  24.588939  11.356582  ...  18.793330  6.020954  7.558174   \n",
       "\n",
       "            493       494       495       496        497       498        499  \n",
       "0      1.000000  1.000000  1.000000  1.000000   1.000000  1.000000   1.000000  \n",
       "1      1.014152  1.003529  0.998427  1.004585   1.004354  0.996331   1.014424  \n",
       "2      1.015848  0.988936  0.997284  1.016550   1.008569  0.999591   1.021622  \n",
       "3      1.031356  0.993812  1.004187  1.005489   0.994080  0.998228   1.030920  \n",
       "4      1.035684  0.993223  0.998970  1.008808   0.999338  1.007654   1.026613  \n",
       "...         ...       ...       ...       ...        ...       ...        ...  \n",
       "7556  12.771247  5.332768  6.188805  4.416484  12.912558  6.664070  40.979745  \n",
       "7557  12.949559  5.357499  6.132656  4.432237  12.966558  6.674480  41.489039  \n",
       "7558  12.904908  5.408366  6.197918  4.462349  12.998265  6.711658  41.566404  \n",
       "7559  13.050205  5.516347  6.168670  4.458849  12.958078  6.696845  41.532274  \n",
       "7560  12.948249  5.447739  6.276989  4.468644  13.060495  6.728916  41.602091  \n",
       "\n",
       "[7561 rows x 500 columns]"
      ]
     },
     "execution_count": 99,
     "metadata": {},
     "output_type": "execute_result"
    }
   ],
   "source": [
    "# Run the Monte Carlo simulation to forecast 30 years cumulative returns\n",
    "MC_40_AGG_60_SPY.calc_cumulative_return()\n"
   ]
  },
  {
   "cell_type": "code",
   "execution_count": 100,
   "metadata": {},
   "outputs": [
    {
     "data": {
      "image/png": "[encoded data removed]",
      "text/plain": [
       "<Figure size 432x288 with 1 Axes>"
      ]
     },
     "metadata": {
      "needs_background": "light"
     },
     "output_type": "display_data"
    }
   ],
   "source": [
    "# Visualize the 30-year Monte Carlo simulation by creating an\n",
    "# overlay line plot\n",
    "MC_40_ACG_60_SPY_line_plot = MC_40_AGG_60_SPY.plot_simulation()\n"
   ]
  },
  {
   "cell_type": "markdown",
   "metadata": {},
   "source": [
    "#### Step 3: Plot the probability distribution of the Monte Carlo simulation."
   ]
  },
  {
   "cell_type": "code",
   "execution_count": 101,
   "metadata": {},
   "outputs": [
    {
     "data": {
      "image/png": "[encoded data removed]",
      "text/plain": [
       "<Figure size 432x288 with 1 Axes>"
      ]
     },
     "metadata": {
      "needs_background": "light"
     },
     "output_type": "display_data"
    }
   ],
   "source": [
    "# Visualize the probability distribution of the 30-year Monte Carlo simulation \n",
    "# by plotting a histogram\n",
    "MC_40_ACG_60_SPY_distribution_plot =  MC_40_AGG_60_SPY.plot_distribution()\n"
   ]
  },
  {
   "cell_type": "markdown",
   "metadata": {},
   "source": [
    "#### Step 4: Generate the summary statistics for the Monte Carlo simulation."
   ]
  },
  {
   "cell_type": "code",
   "execution_count": 102,
   "metadata": {},
   "outputs": [
    {
     "data": {
      "text/plain": [
       "count           500.000000\n",
       "mean             11.213028\n",
       "std               7.039050\n",
       "min               1.525103\n",
       "25%               6.198962\n",
       "50%               9.257054\n",
       "75%              14.017173\n",
       "max              45.651782\n",
       "95% CI Lower      2.854223\n",
       "95% CI Upper     29.928293\n",
       "Name: 7560, dtype: float64"
      ]
     },
     "metadata": {},
     "output_type": "display_data"
    }
   ],
   "source": [
    "# Generate summary statistics from the 30-year Monte Carlo simulation results\n",
    "# Save the results as a variable\n",
    "MC_40_AGG_60_SPY_table = MC_40_AGG_60_SPY.summarize_cumulative_return()\n",
    "\n",
    "# Review the 30-year Monte Carlo summary statistics\n",
    "display(MC_40_AGG_60_SPY_table)"
   ]
  },
  {
   "cell_type": "markdown",
   "metadata": {},
   "source": [
    "### Analyze the Retirement Portfolio Forecasts\n",
    "\n",
    "Using the current value of only the stock and bond portion of the member's portfolio and the summary statistics that you generated from the Monte Carlo simulation, answer the following question in your Jupyter notebook:\n",
    "\n",
    "-  What are the lower and upper bounds for the expected value of the portfolio with a 95% confidence interval?\n"
   ]
  },
  {
   "cell_type": "code",
   "execution_count": 104,
   "metadata": {},
   "outputs": [
    {
     "data": {
      "text/plain": [
       "60689.5"
      ]
     },
     "metadata": {},
     "output_type": "display_data"
    }
   ],
   "source": [
    "# Print the current balance of the stock and bond portion of the members portfolio\n",
    "display(total_stocks_bonds)"
   ]
  },
  {
   "cell_type": "code",
   "execution_count": 106,
   "metadata": {},
   "outputs": [
    {
     "name": "stdout",
     "output_type": "stream",
     "text": [
      "There is a 95% chance that an initial investment of $60,689.50 in the portfolio with 40% in ACG and 60% in SPY weighted portfolio over the next 30 years will end within in the range of $173,221.34 and $1,816,333.15.\n"
     ]
    }
   ],
   "source": [
    "# Use the lower and upper `95%` confidence intervals to calculate the range of the possible outcomes for the current stock/bond portfolio\n",
    "ci_lower_thirty_cumulative_return = round(MC_40_AGG_60_SPY_table[8]*total_stocks_bonds,2)\n",
    "ci_upper_thirty_cumulative_return = round(MC_40_AGG_60_SPY_table[9]*total_stocks_bonds,2)\n",
    "\n",
    "# Print the result of your calculations\n",
    "print(f\"There is a 95% chance that an initial investment of ${total_stocks_bonds:,.2f} in the portfolio\"\n",
    "      f\" with 40% in ACG and 60% in SPY weighted portfolio over the next 30 years will end within in the range of\"\n",
    "      f\" ${ci_lower_thirty_cumulative_return:,.2f} and ${ci_upper_thirty_cumulative_return:,.2f}.\")"
   ]
  },
  {
   "cell_type": "markdown",
   "metadata": {},
   "source": [
    "### Forecast Cumulative Returns in 10 Years\n",
    "\n",
    "The CTO of the credit union is impressed with your work on these planning tools but wonders if 30 years is a long time to wait until retirement. So, your next task is to adjust the retirement portfolio and run a new Monte Carlo simulation to find out if the changes will allow members to retire earlier.\n",
    "\n",
    "For this new Monte Carlo simulation, do the following: \n",
    "\n",
    "- Forecast the cumulative returns for 10 years from now. Because of the shortened investment horizon (30 years to 10 years), the portfolio needs to invest more heavily in the riskier asset&mdash;that is, stock&mdash;to help accumulate wealth for retirement. \n",
    "\n",
    "- Adjust the weights of the retirement portfolio so that the composition for the Monte Carlo simulation consists of 20% bonds and 80% stocks. \n",
    "\n",
    "- Run the simulation over 500 samples, and use the same data that the API call to Alpaca generated.\n",
    "\n",
    "- Based on the new Monte Carlo simulation, answer the following questions in your Jupyter notebook:\n",
    "\n",
    "    - Using the current value of only the stock and bond portion of the member's portfolio and the summary statistics that you generated from the new Monte Carlo simulation, what are the lower and upper bounds for the expected value of the portfolio (with the new weights) with a 95% confidence interval?\n",
    "\n",
    "    - Will weighting the portfolio more heavily toward stocks allow the credit union members to retire after only 10 years?\n"
   ]
  },
  {
   "cell_type": "code",
   "execution_count": 108,
   "metadata": {},
   "outputs": [
    {
     "data": {
      "text/html": [
       "<div>\n",
       "<style scoped>\n",
       "    .dataframe tbody tr th:only-of-type {\n",
       "        vertical-align: middle;\n",
       "    }\n",
       "\n",
       "    .dataframe tbody tr th {\n",
       "        vertical-align: top;\n",
       "    }\n",
       "\n",
       "    .dataframe thead tr th {\n",
       "        text-align: left;\n",
       "    }\n",
       "\n",
       "    .dataframe thead tr:last-of-type th {\n",
       "        text-align: right;\n",
       "    }\n",
       "</style>\n",
       "<table border=\"1\" class=\"dataframe\">\n",
       "  <thead>\n",
       "    <tr>\n",
       "      <th></th>\n",
       "      <th colspan=\"6\" halign=\"left\">AGG</th>\n",
       "      <th colspan=\"6\" halign=\"left\">SPY</th>\n",
       "    </tr>\n",
       "    <tr>\n",
       "      <th></th>\n",
       "      <th>open</th>\n",
       "      <th>high</th>\n",
       "      <th>low</th>\n",
       "      <th>close</th>\n",
       "      <th>volume</th>\n",
       "      <th>daily_return</th>\n",
       "      <th>open</th>\n",
       "      <th>high</th>\n",
       "      <th>low</th>\n",
       "      <th>close</th>\n",
       "      <th>volume</th>\n",
       "      <th>daily_return</th>\n",
       "    </tr>\n",
       "    <tr>\n",
       "      <th>time</th>\n",
       "      <th></th>\n",
       "      <th></th>\n",
       "      <th></th>\n",
       "      <th></th>\n",
       "      <th></th>\n",
       "      <th></th>\n",
       "      <th></th>\n",
       "      <th></th>\n",
       "      <th></th>\n",
       "      <th></th>\n",
       "      <th></th>\n",
       "      <th></th>\n",
       "    </tr>\n",
       "  </thead>\n",
       "  <tbody>\n",
       "    <tr>\n",
       "      <th>2010-08-09 00:00:00-04:00</th>\n",
       "      <td>107.66</td>\n",
       "      <td>107.680</td>\n",
       "      <td>107.53</td>\n",
       "      <td>107.63</td>\n",
       "      <td>478988.0</td>\n",
       "      <td>NaN</td>\n",
       "      <td>112.92</td>\n",
       "      <td>113.18</td>\n",
       "      <td>112.3200</td>\n",
       "      <td>112.9801</td>\n",
       "      <td>89387651</td>\n",
       "      <td>NaN</td>\n",
       "    </tr>\n",
       "    <tr>\n",
       "      <th>2010-08-10 00:00:00-04:00</th>\n",
       "      <td>107.63</td>\n",
       "      <td>107.920</td>\n",
       "      <td>107.56</td>\n",
       "      <td>107.83</td>\n",
       "      <td>532447.0</td>\n",
       "      <td>0.001858</td>\n",
       "      <td>112.03</td>\n",
       "      <td>112.98</td>\n",
       "      <td>111.3701</td>\n",
       "      <td>112.4200</td>\n",
       "      <td>202262432</td>\n",
       "      <td>-0.004958</td>\n",
       "    </tr>\n",
       "    <tr>\n",
       "      <th>2010-08-11 00:00:00-04:00</th>\n",
       "      <td>107.91</td>\n",
       "      <td>107.956</td>\n",
       "      <td>107.79</td>\n",
       "      <td>107.91</td>\n",
       "      <td>665686.0</td>\n",
       "      <td>0.000742</td>\n",
       "      <td>110.65</td>\n",
       "      <td>110.69</td>\n",
       "      <td>109.1200</td>\n",
       "      <td>109.2901</td>\n",
       "      <td>223970698</td>\n",
       "      <td>-0.027841</td>\n",
       "    </tr>\n",
       "    <tr>\n",
       "      <th>2010-08-12 00:00:00-04:00</th>\n",
       "      <td>107.93</td>\n",
       "      <td>107.980</td>\n",
       "      <td>107.67</td>\n",
       "      <td>107.74</td>\n",
       "      <td>640614.0</td>\n",
       "      <td>-0.001575</td>\n",
       "      <td>107.64</td>\n",
       "      <td>109.02</td>\n",
       "      <td>107.6000</td>\n",
       "      <td>108.6400</td>\n",
       "      <td>190434932</td>\n",
       "      <td>-0.005948</td>\n",
       "    </tr>\n",
       "    <tr>\n",
       "      <th>2010-08-13 00:00:00-04:00</th>\n",
       "      <td>107.77</td>\n",
       "      <td>108.000</td>\n",
       "      <td>107.67</td>\n",
       "      <td>108.00</td>\n",
       "      <td>563778.0</td>\n",
       "      <td>0.002413</td>\n",
       "      <td>108.29</td>\n",
       "      <td>108.96</td>\n",
       "      <td>108.1800</td>\n",
       "      <td>108.3000</td>\n",
       "      <td>130664078</td>\n",
       "      <td>-0.003130</td>\n",
       "    </tr>\n",
       "  </tbody>\n",
       "</table>\n",
       "</div>"
      ],
      "text/plain": [
       "                              AGG                                     \\\n",
       "                             open     high     low   close    volume   \n",
       "time                                                                   \n",
       "2010-08-09 00:00:00-04:00  107.66  107.680  107.53  107.63  478988.0   \n",
       "2010-08-10 00:00:00-04:00  107.63  107.920  107.56  107.83  532447.0   \n",
       "2010-08-11 00:00:00-04:00  107.91  107.956  107.79  107.91  665686.0   \n",
       "2010-08-12 00:00:00-04:00  107.93  107.980  107.67  107.74  640614.0   \n",
       "2010-08-13 00:00:00-04:00  107.77  108.000  107.67  108.00  563778.0   \n",
       "\n",
       "                                           SPY                              \\\n",
       "                          daily_return    open    high       low     close   \n",
       "time                                                                         \n",
       "2010-08-09 00:00:00-04:00          NaN  112.92  113.18  112.3200  112.9801   \n",
       "2010-08-10 00:00:00-04:00     0.001858  112.03  112.98  111.3701  112.4200   \n",
       "2010-08-11 00:00:00-04:00     0.000742  110.65  110.69  109.1200  109.2901   \n",
       "2010-08-12 00:00:00-04:00    -0.001575  107.64  109.02  107.6000  108.6400   \n",
       "2010-08-13 00:00:00-04:00     0.002413  108.29  108.96  108.1800  108.3000   \n",
       "\n",
       "                                                   \n",
       "                              volume daily_return  \n",
       "time                                               \n",
       "2010-08-09 00:00:00-04:00   89387651          NaN  \n",
       "2010-08-10 00:00:00-04:00  202262432    -0.004958  \n",
       "2010-08-11 00:00:00-04:00  223970698    -0.027841  \n",
       "2010-08-12 00:00:00-04:00  190434932    -0.005948  \n",
       "2010-08-13 00:00:00-04:00  130664078    -0.003130  "
      ]
     },
     "execution_count": 108,
     "metadata": {},
     "output_type": "execute_result"
    }
   ],
   "source": [
    "# Configure a Monte Carlo simulation to forecast 10 years cumulative returns\n",
    "# The weights should be split 20% to AGG and 80% to SPY.\n",
    "# Run 500 samples.\n",
    "MC_20_AGG_80_SPY = MCSimulation(\n",
    "    portfolio_data = full_yr_10_prices_df,\n",
    "    weights = [.2,.8],\n",
    "    num_simulation = 500,\n",
    "    num_trading_days = 252*10\n",
    ")\n",
    "# Review the simulation input data\n",
    "MC_20_AGG_80_SPY.portfolio_data.head()\n"
   ]
  },
  {
   "cell_type": "code",
   "execution_count": 109,
   "metadata": {},
   "outputs": [
    {
     "name": "stdout",
     "output_type": "stream",
     "text": [
      "Running Monte Carlo simulation number 0.\n",
      "Running Monte Carlo simulation number 10.\n",
      "Running Monte Carlo simulation number 20.\n",
      "Running Monte Carlo simulation number 30.\n",
      "Running Monte Carlo simulation number 40.\n",
      "Running Monte Carlo simulation number 50.\n",
      "Running Monte Carlo simulation number 60.\n",
      "Running Monte Carlo simulation number 70.\n",
      "Running Monte Carlo simulation number 80.\n",
      "Running Monte Carlo simulation number 90.\n",
      "Running Monte Carlo simulation number 100.\n",
      "Running Monte Carlo simulation number 110.\n",
      "Running Monte Carlo simulation number 120.\n",
      "Running Monte Carlo simulation number 130.\n",
      "Running Monte Carlo simulation number 140.\n",
      "Running Monte Carlo simulation number 150.\n",
      "Running Monte Carlo simulation number 160.\n",
      "Running Monte Carlo simulation number 170.\n",
      "Running Monte Carlo simulation number 180.\n",
      "Running Monte Carlo simulation number 190.\n",
      "Running Monte Carlo simulation number 200.\n",
      "Running Monte Carlo simulation number 210.\n",
      "Running Monte Carlo simulation number 220.\n",
      "Running Monte Carlo simulation number 230.\n",
      "Running Monte Carlo simulation number 240.\n",
      "Running Monte Carlo simulation number 250.\n",
      "Running Monte Carlo simulation number 260.\n",
      "Running Monte Carlo simulation number 270.\n",
      "Running Monte Carlo simulation number 280.\n",
      "Running Monte Carlo simulation number 290.\n",
      "Running Monte Carlo simulation number 300.\n",
      "Running Monte Carlo simulation number 310.\n",
      "Running Monte Carlo simulation number 320.\n",
      "Running Monte Carlo simulation number 330.\n",
      "Running Monte Carlo simulation number 340.\n",
      "Running Monte Carlo simulation number 350.\n",
      "Running Monte Carlo simulation number 360.\n",
      "Running Monte Carlo simulation number 370.\n",
      "Running Monte Carlo simulation number 380.\n",
      "Running Monte Carlo simulation number 390.\n",
      "Running Monte Carlo simulation number 400.\n",
      "Running Monte Carlo simulation number 410.\n",
      "Running Monte Carlo simulation number 420.\n",
      "Running Monte Carlo simulation number 430.\n",
      "Running Monte Carlo simulation number 440.\n",
      "Running Monte Carlo simulation number 450.\n",
      "Running Monte Carlo simulation number 460.\n",
      "Running Monte Carlo simulation number 470.\n",
      "Running Monte Carlo simulation number 480.\n",
      "Running Monte Carlo simulation number 490.\n"
     ]
    },
    {
     "data": {
      "text/html": [
       "<div>\n",
       "<style scoped>\n",
       "    .dataframe tbody tr th:only-of-type {\n",
       "        vertical-align: middle;\n",
       "    }\n",
       "\n",
       "    .dataframe tbody tr th {\n",
       "        vertical-align: top;\n",
       "    }\n",
       "\n",
       "    .dataframe thead th {\n",
       "        text-align: right;\n",
       "    }\n",
       "</style>\n",
       "<table border=\"1\" class=\"dataframe\">\n",
       "  <thead>\n",
       "    <tr style=\"text-align: right;\">\n",
       "      <th></th>\n",
       "      <th>0</th>\n",
       "      <th>1</th>\n",
       "      <th>2</th>\n",
       "      <th>3</th>\n",
       "      <th>4</th>\n",
       "      <th>5</th>\n",
       "      <th>6</th>\n",
       "      <th>7</th>\n",
       "      <th>8</th>\n",
       "      <th>9</th>\n",
       "      <th>...</th>\n",
       "      <th>490</th>\n",
       "      <th>491</th>\n",
       "      <th>492</th>\n",
       "      <th>493</th>\n",
       "      <th>494</th>\n",
       "      <th>495</th>\n",
       "      <th>496</th>\n",
       "      <th>497</th>\n",
       "      <th>498</th>\n",
       "      <th>499</th>\n",
       "    </tr>\n",
       "  </thead>\n",
       "  <tbody>\n",
       "    <tr>\n",
       "      <th>0</th>\n",
       "      <td>1.000000</td>\n",
       "      <td>1.000000</td>\n",
       "      <td>1.000000</td>\n",
       "      <td>1.000000</td>\n",
       "      <td>1.000000</td>\n",
       "      <td>1.000000</td>\n",
       "      <td>1.000000</td>\n",
       "      <td>1.000000</td>\n",
       "      <td>1.000000</td>\n",
       "      <td>1.000000</td>\n",
       "      <td>...</td>\n",
       "      <td>1.000000</td>\n",
       "      <td>1.000000</td>\n",
       "      <td>1.000000</td>\n",
       "      <td>1.000000</td>\n",
       "      <td>1.000000</td>\n",
       "      <td>1.000000</td>\n",
       "      <td>1.000000</td>\n",
       "      <td>1.000000</td>\n",
       "      <td>1.000000</td>\n",
       "      <td>1.000000</td>\n",
       "    </tr>\n",
       "    <tr>\n",
       "      <th>1</th>\n",
       "      <td>0.999158</td>\n",
       "      <td>1.022441</td>\n",
       "      <td>0.993262</td>\n",
       "      <td>1.000128</td>\n",
       "      <td>1.004402</td>\n",
       "      <td>1.016427</td>\n",
       "      <td>0.984251</td>\n",
       "      <td>0.993136</td>\n",
       "      <td>0.995900</td>\n",
       "      <td>0.998012</td>\n",
       "      <td>...</td>\n",
       "      <td>1.005243</td>\n",
       "      <td>1.003731</td>\n",
       "      <td>1.022791</td>\n",
       "      <td>1.000203</td>\n",
       "      <td>1.006410</td>\n",
       "      <td>0.996819</td>\n",
       "      <td>0.995724</td>\n",
       "      <td>1.005198</td>\n",
       "      <td>0.992730</td>\n",
       "      <td>0.987392</td>\n",
       "    </tr>\n",
       "    <tr>\n",
       "      <th>2</th>\n",
       "      <td>1.004264</td>\n",
       "      <td>1.027891</td>\n",
       "      <td>0.990621</td>\n",
       "      <td>0.990219</td>\n",
       "      <td>1.016757</td>\n",
       "      <td>1.010076</td>\n",
       "      <td>0.982954</td>\n",
       "      <td>0.991337</td>\n",
       "      <td>0.992967</td>\n",
       "      <td>1.002536</td>\n",
       "      <td>...</td>\n",
       "      <td>1.001851</td>\n",
       "      <td>1.004113</td>\n",
       "      <td>1.024911</td>\n",
       "      <td>0.999215</td>\n",
       "      <td>1.020841</td>\n",
       "      <td>1.001085</td>\n",
       "      <td>1.005546</td>\n",
       "      <td>1.037199</td>\n",
       "      <td>1.003495</td>\n",
       "      <td>0.985419</td>\n",
       "    </tr>\n",
       "    <tr>\n",
       "      <th>3</th>\n",
       "      <td>1.009942</td>\n",
       "      <td>1.017766</td>\n",
       "      <td>0.993765</td>\n",
       "      <td>0.992951</td>\n",
       "      <td>1.024640</td>\n",
       "      <td>1.004125</td>\n",
       "      <td>0.972646</td>\n",
       "      <td>1.010188</td>\n",
       "      <td>0.981935</td>\n",
       "      <td>1.012712</td>\n",
       "      <td>...</td>\n",
       "      <td>1.013580</td>\n",
       "      <td>0.999948</td>\n",
       "      <td>1.021248</td>\n",
       "      <td>0.997699</td>\n",
       "      <td>1.021832</td>\n",
       "      <td>1.008533</td>\n",
       "      <td>0.994041</td>\n",
       "      <td>1.040866</td>\n",
       "      <td>1.011898</td>\n",
       "      <td>0.987253</td>\n",
       "    </tr>\n",
       "    <tr>\n",
       "      <th>4</th>\n",
       "      <td>1.018884</td>\n",
       "      <td>1.020318</td>\n",
       "      <td>0.990544</td>\n",
       "      <td>0.989117</td>\n",
       "      <td>1.027302</td>\n",
       "      <td>1.006550</td>\n",
       "      <td>0.971494</td>\n",
       "      <td>1.004841</td>\n",
       "      <td>0.970537</td>\n",
       "      <td>1.021065</td>\n",
       "      <td>...</td>\n",
       "      <td>1.000348</td>\n",
       "      <td>1.002440</td>\n",
       "      <td>1.015851</td>\n",
       "      <td>0.996516</td>\n",
       "      <td>1.030178</td>\n",
       "      <td>1.004674</td>\n",
       "      <td>1.000629</td>\n",
       "      <td>1.031804</td>\n",
       "      <td>1.007474</td>\n",
       "      <td>0.978587</td>\n",
       "    </tr>\n",
       "    <tr>\n",
       "      <th>...</th>\n",
       "      <td>...</td>\n",
       "      <td>...</td>\n",
       "      <td>...</td>\n",
       "      <td>...</td>\n",
       "      <td>...</td>\n",
       "      <td>...</td>\n",
       "      <td>...</td>\n",
       "      <td>...</td>\n",
       "      <td>...</td>\n",
       "      <td>...</td>\n",
       "      <td>...</td>\n",
       "      <td>...</td>\n",
       "      <td>...</td>\n",
       "      <td>...</td>\n",
       "      <td>...</td>\n",
       "      <td>...</td>\n",
       "      <td>...</td>\n",
       "      <td>...</td>\n",
       "      <td>...</td>\n",
       "      <td>...</td>\n",
       "      <td>...</td>\n",
       "    </tr>\n",
       "    <tr>\n",
       "      <th>2516</th>\n",
       "      <td>2.012301</td>\n",
       "      <td>3.150788</td>\n",
       "      <td>4.696326</td>\n",
       "      <td>3.247447</td>\n",
       "      <td>1.675693</td>\n",
       "      <td>4.647125</td>\n",
       "      <td>2.700364</td>\n",
       "      <td>4.446100</td>\n",
       "      <td>5.558806</td>\n",
       "      <td>5.619438</td>\n",
       "      <td>...</td>\n",
       "      <td>2.691724</td>\n",
       "      <td>3.621978</td>\n",
       "      <td>2.116554</td>\n",
       "      <td>1.742346</td>\n",
       "      <td>2.744703</td>\n",
       "      <td>2.915361</td>\n",
       "      <td>2.194708</td>\n",
       "      <td>2.661195</td>\n",
       "      <td>2.852098</td>\n",
       "      <td>1.684035</td>\n",
       "    </tr>\n",
       "    <tr>\n",
       "      <th>2517</th>\n",
       "      <td>2.017239</td>\n",
       "      <td>3.122078</td>\n",
       "      <td>4.727698</td>\n",
       "      <td>3.238291</td>\n",
       "      <td>1.677212</td>\n",
       "      <td>4.610461</td>\n",
       "      <td>2.699984</td>\n",
       "      <td>4.438891</td>\n",
       "      <td>5.512553</td>\n",
       "      <td>5.642344</td>\n",
       "      <td>...</td>\n",
       "      <td>2.674586</td>\n",
       "      <td>3.632606</td>\n",
       "      <td>2.133961</td>\n",
       "      <td>1.719662</td>\n",
       "      <td>2.727838</td>\n",
       "      <td>2.936469</td>\n",
       "      <td>2.222268</td>\n",
       "      <td>2.666638</td>\n",
       "      <td>2.867393</td>\n",
       "      <td>1.692104</td>\n",
       "    </tr>\n",
       "    <tr>\n",
       "      <th>2518</th>\n",
       "      <td>2.012429</td>\n",
       "      <td>3.131174</td>\n",
       "      <td>4.827907</td>\n",
       "      <td>3.223150</td>\n",
       "      <td>1.687247</td>\n",
       "      <td>4.578613</td>\n",
       "      <td>2.720182</td>\n",
       "      <td>4.470922</td>\n",
       "      <td>5.554186</td>\n",
       "      <td>5.701599</td>\n",
       "      <td>...</td>\n",
       "      <td>2.667835</td>\n",
       "      <td>3.601431</td>\n",
       "      <td>2.155012</td>\n",
       "      <td>1.705170</td>\n",
       "      <td>2.700803</td>\n",
       "      <td>2.938234</td>\n",
       "      <td>2.182619</td>\n",
       "      <td>2.675830</td>\n",
       "      <td>2.846646</td>\n",
       "      <td>1.693242</td>\n",
       "    </tr>\n",
       "    <tr>\n",
       "      <th>2519</th>\n",
       "      <td>2.054285</td>\n",
       "      <td>3.162890</td>\n",
       "      <td>4.872932</td>\n",
       "      <td>3.226156</td>\n",
       "      <td>1.685676</td>\n",
       "      <td>4.565585</td>\n",
       "      <td>2.727941</td>\n",
       "      <td>4.505536</td>\n",
       "      <td>5.496648</td>\n",
       "      <td>5.700960</td>\n",
       "      <td>...</td>\n",
       "      <td>2.692298</td>\n",
       "      <td>3.628502</td>\n",
       "      <td>2.125178</td>\n",
       "      <td>1.720193</td>\n",
       "      <td>2.720067</td>\n",
       "      <td>2.932420</td>\n",
       "      <td>2.171565</td>\n",
       "      <td>2.689559</td>\n",
       "      <td>2.874538</td>\n",
       "      <td>1.699704</td>\n",
       "    </tr>\n",
       "    <tr>\n",
       "      <th>2520</th>\n",
       "      <td>2.059956</td>\n",
       "      <td>3.127601</td>\n",
       "      <td>4.907397</td>\n",
       "      <td>3.267547</td>\n",
       "      <td>1.695056</td>\n",
       "      <td>4.501959</td>\n",
       "      <td>2.683965</td>\n",
       "      <td>4.479458</td>\n",
       "      <td>5.524846</td>\n",
       "      <td>5.749587</td>\n",
       "      <td>...</td>\n",
       "      <td>2.738518</td>\n",
       "      <td>3.616447</td>\n",
       "      <td>2.100939</td>\n",
       "      <td>1.714763</td>\n",
       "      <td>2.745420</td>\n",
       "      <td>2.957937</td>\n",
       "      <td>2.182357</td>\n",
       "      <td>2.719135</td>\n",
       "      <td>2.873328</td>\n",
       "      <td>1.693454</td>\n",
       "    </tr>\n",
       "  </tbody>\n",
       "</table>\n",
       "<p>2521 rows × 500 columns</p>\n",
       "</div>"
      ],
      "text/plain": [
       "           0         1         2         3         4         5         6    \\\n",
       "0     1.000000  1.000000  1.000000  1.000000  1.000000  1.000000  1.000000   \n",
       "1     0.999158  1.022441  0.993262  1.000128  1.004402  1.016427  0.984251   \n",
       "2     1.004264  1.027891  0.990621  0.990219  1.016757  1.010076  0.982954   \n",
       "3     1.009942  1.017766  0.993765  0.992951  1.024640  1.004125  0.972646   \n",
       "4     1.018884  1.020318  0.990544  0.989117  1.027302  1.006550  0.971494   \n",
       "...        ...       ...       ...       ...       ...       ...       ...   \n",
       "2516  2.012301  3.150788  4.696326  3.247447  1.675693  4.647125  2.700364   \n",
       "2517  2.017239  3.122078  4.727698  3.238291  1.677212  4.610461  2.699984   \n",
       "2518  2.012429  3.131174  4.827907  3.223150  1.687247  4.578613  2.720182   \n",
       "2519  2.054285  3.162890  4.872932  3.226156  1.685676  4.565585  2.727941   \n",
       "2520  2.059956  3.127601  4.907397  3.267547  1.695056  4.501959  2.683965   \n",
       "\n",
       "           7         8         9    ...       490       491       492  \\\n",
       "0     1.000000  1.000000  1.000000  ...  1.000000  1.000000  1.000000   \n",
       "1     0.993136  0.995900  0.998012  ...  1.005243  1.003731  1.022791   \n",
       "2     0.991337  0.992967  1.002536  ...  1.001851  1.004113  1.024911   \n",
       "3     1.010188  0.981935  1.012712  ...  1.013580  0.999948  1.021248   \n",
       "4     1.004841  0.970537  1.021065  ...  1.000348  1.002440  1.015851   \n",
       "...        ...       ...       ...  ...       ...       ...       ...   \n",
       "2516  4.446100  5.558806  5.619438  ...  2.691724  3.621978  2.116554   \n",
       "2517  4.438891  5.512553  5.642344  ...  2.674586  3.632606  2.133961   \n",
       "2518  4.470922  5.554186  5.701599  ...  2.667835  3.601431  2.155012   \n",
       "2519  4.505536  5.496648  5.700960  ...  2.692298  3.628502  2.125178   \n",
       "2520  4.479458  5.524846  5.749587  ...  2.738518  3.616447  2.100939   \n",
       "\n",
       "           493       494       495       496       497       498       499  \n",
       "0     1.000000  1.000000  1.000000  1.000000  1.000000  1.000000  1.000000  \n",
       "1     1.000203  1.006410  0.996819  0.995724  1.005198  0.992730  0.987392  \n",
       "2     0.999215  1.020841  1.001085  1.005546  1.037199  1.003495  0.985419  \n",
       "3     0.997699  1.021832  1.008533  0.994041  1.040866  1.011898  0.987253  \n",
       "4     0.996516  1.030178  1.004674  1.000629  1.031804  1.007474  0.978587  \n",
       "...        ...       ...       ...       ...       ...       ...       ...  \n",
       "2516  1.742346  2.744703  2.915361  2.194708  2.661195  2.852098  1.684035  \n",
       "2517  1.719662  2.727838  2.936469  2.222268  2.666638  2.867393  1.692104  \n",
       "2518  1.705170  2.700803  2.938234  2.182619  2.675830  2.846646  1.693242  \n",
       "2519  1.720193  2.720067  2.932420  2.171565  2.689559  2.874538  1.699704  \n",
       "2520  1.714763  2.745420  2.957937  2.182357  2.719135  2.873328  1.693454  \n",
       "\n",
       "[2521 rows x 500 columns]"
      ]
     },
     "execution_count": 109,
     "metadata": {},
     "output_type": "execute_result"
    }
   ],
   "source": [
    "# Run the Monte Carlo simulation to forecast 10 years cumulative returns\n",
    "MC_20_AGG_80_SPY.calc_cumulative_return()"
   ]
  },
  {
   "cell_type": "code",
   "execution_count": 110,
   "metadata": {},
   "outputs": [
    {
     "data": {
      "image/png": "[encoded data removed]",
      "text/plain": [
       "<Figure size 432x288 with 1 Axes>"
      ]
     },
     "metadata": {
      "needs_background": "light"
     },
     "output_type": "display_data"
    }
   ],
   "source": [
    "# Visualize the 10-year Monte Carlo simulation by creating an\n",
    "# overlay line plot\n",
    "MC_20_ACG_80_SPY_line_plot = MC_20_AGG_80_SPY.plot_simulation()"
   ]
  },
  {
   "cell_type": "code",
   "execution_count": 112,
   "metadata": {},
   "outputs": [
    {
     "data": {
      "image/png": "[encoded data removed]",
      "text/plain": [
       "<Figure size 432x288 with 1 Axes>"
      ]
     },
     "metadata": {
      "needs_background": "light"
     },
     "output_type": "display_data"
    }
   ],
   "source": [
    "# Visualize the probability distribution of the 10-year Monte Carlo simulation \n",
    "# by plotting a histogram\n",
    "MC_20_ACG_80_SPY_distribution_plot =  MC_20_AGG_80_SPY.plot_distribution()"
   ]
  },
  {
   "cell_type": "code",
   "execution_count": 113,
   "metadata": {},
   "outputs": [
    {
     "data": {
      "text/plain": [
       "count           500.000000\n",
       "mean              2.715999\n",
       "std               1.198076\n",
       "min               0.649094\n",
       "25%               1.784218\n",
       "50%               2.515733\n",
       "75%               3.328963\n",
       "max               8.059166\n",
       "95% CI Lower      1.068131\n",
       "95% CI Upper      5.472693\n",
       "Name: 2520, dtype: float64"
      ]
     },
     "metadata": {},
     "output_type": "display_data"
    }
   ],
   "source": [
    "# Generate summary statistics from the 10-year Monte Carlo simulation results\n",
    "# Save the results as a variable\n",
    "MC_20_AGG_80_SPY_table = MC_20_AGG_80_SPY.summarize_cumulative_return()\n",
    "\n",
    "\n",
    "# Review the 10-year Monte Carlo summary statistics\n",
    "display(MC_20_AGG_80_SPY_table)"
   ]
  },
  {
   "cell_type": "markdown",
   "metadata": {},
   "source": [
    "### Answer the following questions:"
   ]
  },
  {
   "cell_type": "markdown",
   "metadata": {},
   "source": [
    "#### Question: Using the current value of only the stock and bond portion of the member's portfolio and the summary statistics that you generated from the new Monte Carlo simulation, what are the lower and upper bounds for the expected value of the portfolio (with the new weights) with a 95% confidence interval?"
   ]
  },
  {
   "cell_type": "code",
   "execution_count": 114,
   "metadata": {},
   "outputs": [
    {
     "data": {
      "text/plain": [
       "60689.5"
      ]
     },
     "metadata": {},
     "output_type": "display_data"
    }
   ],
   "source": [
    "# Print the current balance of the stock and bond portion of the members portfolio\n",
    "display(total_stocks_bonds)\n"
   ]
  },
  {
   "cell_type": "code",
   "execution_count": 115,
   "metadata": {},
   "outputs": [
    {
     "name": "stdout",
     "output_type": "stream",
     "text": [
      "There is a 95% chance that an initial investment of $60,689.50 in the portfolio with 20% in ACG and 80% in SPY weighted portfolio over the next 10 years will end within in the range of $64,824.36 and $332,135.03.\n"
     ]
    }
   ],
   "source": [
    "# Use the lower and upper `95%` confidence intervals to calculate the range of the possible outcomes for the current stock/bond portfolio\n",
    "ci_lower_ten_cumulative_return = round(MC_20_AGG_80_SPY_table[8]*total_stocks_bonds,2)\n",
    "ci_upper_ten_cumulative_return = round(MC_20_AGG_80_SPY_table[9]*total_stocks_bonds,2)\n",
    "\n",
    "# Print the result of your calculations\n",
    "print(f\"There is a 95% chance that an initial investment of ${total_stocks_bonds:,.2f} in the portfolio\"\n",
    "      f\" with 20% in ACG and 80% in SPY weighted portfolio over the next 10 years will end within in the range of\"\n",
    "      f\" ${ci_lower_ten_cumulative_return:,.2f} and ${ci_upper_ten_cumulative_return:,.2f}.\")\n"
   ]
  },
  {
   "cell_type": "markdown",
   "metadata": {},
   "source": [
    "#### Question: Will weighting the portfolio more heavily to stocks allow the credit union members to retire after only 10 years?"
   ]
  },
  {
   "cell_type": "raw",
   "metadata": {},
   "source": [
    "**Answer** Probably not, given our 10 year historical data and a MC simulation over 10 years there is a 95% chance that beginning with an initial investment of $60,689.50\n",
    " they would have between $64,824.36 and $332,135.03 with a 95% CI. Depending on their age, even in the best case scenario, $332,135.03 is not enough to retire with."
   ]
  }
 ],
 "metadata": {
  "interpreter": {
   "hash": "930eee74a1f2acacbb765ecf4f41bca31b45440fd68d4dff19855f34b00f2967"
  },
  "kernelspec": {
   "display_name": "Python 3.7.9 64-bit ('dev': conda)",
   "name": "python3"
  },
  "language_info": {
   "codemirror_mode": {
    "name": "ipython",
    "version": 3
   },
   "file_extension": ".py",
   "mimetype": "text/x-python",
   "name": "python",
   "nbconvert_exporter": "python",
   "pygments_lexer": "ipython3",
   "version": "3.7.9"
  }
 },
 "nbformat": 4,
 "nbformat_minor": 4
}